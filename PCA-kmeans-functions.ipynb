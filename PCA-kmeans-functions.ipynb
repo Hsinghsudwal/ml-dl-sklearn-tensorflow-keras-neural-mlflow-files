{
 "cells": [
  {
   "cell_type": "markdown",
   "id": "5c96c5f8-fbf7-4d64-ac03-9f7574a5b36f",
   "metadata": {},
   "source": [
    "## The Ultimate Step-by-Step Guide to Data Mining with PCA and KMeans"
   ]
  },
  {
   "cell_type": "markdown",
   "id": "bea81d60-8297-4906-834b-909a6aaebf1f",
   "metadata": {},
   "source": [
    "Pre-processing: Preparing your dataset for analysis.\n",
    "Scaling: Why and how to scale your data.\n",
    "Optimal PCA Components: Determining the right number of components.\n",
    "Applying PCA: Transforming your data.\n",
    "KMeans Clustering: Grouping the transformed data.\n",
    "Analyzing PCA Loadings: Understanding what your components represent.\n",
    "From PCA Space to Original Space: Interpreting the cluster centers.\n",
    "Centroids and Means: Comparing cluster centers with the original data mean.\n",
    "Deep Dive into Loadings: A closer look at the features influencing each principal component."
   ]
  },
  {
   "cell_type": "code",
   "execution_count": null,
   "id": "6f79584f-649f-4269-a39f-ca5b78a4567c",
   "metadata": {},
   "outputs": [],
   "source": [
    "# A. Cleaning the Data\n",
    "df = df.fillna(df.mean())\n",
    "df.drop(['unnecessary_column'], axis=1, inplace=True)"
   ]
  },
  {
   "cell_type": "code",
   "execution_count": null,
   "id": "429775f7-bba8-4971-8226-17e5fc3937a2",
   "metadata": {},
   "outputs": [],
   "source": [
    "# B. Encoding Categorical Data\n",
    "from sklearn.preprocessing import LabelEncoder\n",
    "label_encoder = LabelEncoder()\n",
    "df['category_column'] = label_encoder.fit_transform(df['category_column'])"
   ]
  },
  {
   "cell_type": "code",
   "execution_count": null,
   "id": "29a406e1-33e6-4f76-9fc7-2fbf60590cf9",
   "metadata": {},
   "outputs": [],
   "source": [
    "df = pd.get_dummies(df, columns=['nominal_category_column'])"
   ]
  },
  {
   "cell_type": "code",
   "execution_count": 1,
   "id": "6264367f-9c2f-4794-b35c-cc5b45b875d2",
   "metadata": {},
   "outputs": [],
   "source": [
    "# Step 2: Scaling — Why and How to Scale Your Data"
   ]
  },
  {
   "cell_type": "code",
   "execution_count": null,
   "id": "53489535-6bf3-4594-80cd-25066f2d5743",
   "metadata": {},
   "outputs": [],
   "source": [
    "from sklearn.preprocessing import StandardScaler\n",
    "scaler = StandardScaler()\n",
    "scaled_features = scaler.fit_transform(df)"
   ]
  },
  {
   "cell_type": "code",
   "execution_count": null,
   "id": "051be723-6d43-4f82-bda4-4fd7e06727f9",
   "metadata": {},
   "outputs": [],
   "source": [
    "from sklearn.preprocessing import MinMaxScaler\n",
    "min_max_scaler = MinMaxScaler()\n",
    "scaled_features = min_max_scaler.fit_transform(df)"
   ]
  },
  {
   "cell_type": "code",
   "execution_count": null,
   "id": "983f2e5b-654c-4ce6-bbfb-c68bf55cf199",
   "metadata": {},
   "outputs": [],
   "source": [
    "# Step 3: Optimal PCA Components — Determining the Right Number of Components"
   ]
  },
  {
   "cell_type": "code",
   "execution_count": null,
   "id": "fc1be27d-415b-4934-b934-3090598e3ce6",
   "metadata": {},
   "outputs": [],
   "source": [
    "from sklearn.decomposition import PCA\n",
    "import matplotlib.pyplot as plt\n",
    "\n",
    "# Fit PCA on scaled data\n",
    "pca = PCA().fit(scaled_features)\n",
    "\n",
    "# Plotting the Cumulative Summation of the Explained Variance\n",
    "plt.figure()\n",
    "plt.plot(range(1, len(pca.explained_variance_ratio_) + 1), \n",
    "         np.cumsum(pca.explained_variance_ratio_))\n",
    "plt.xlabel('Number of Components')\n",
    "plt.ylabel('Cumulative Explained Variance')\n",
    "plt.title('Explained Variance by Different Principal Components')\n",
    "plt.show()"
   ]
  },
  {
   "cell_type": "code",
   "execution_count": null,
   "id": "cc4ebc5c-a0da-4f04-ab53-9de67736a4ed",
   "metadata": {},
   "outputs": [],
   "source": [
    "n_components = # number identified from the plot\n",
    "pca = PCA(n_components=n_components)"
   ]
  },
  {
   "cell_type": "code",
   "execution_count": null,
   "id": "ea046e52-42a2-40c7-a0f1-03ba1c25c215",
   "metadata": {},
   "outputs": [],
   "source": [
    "# Step 4: Applying PCA — Transforming Your Data"
   ]
  },
  {
   "cell_type": "code",
   "execution_count": null,
   "id": "5c8fba10-f6c6-41db-b4c4-65dbaf291a6c",
   "metadata": {},
   "outputs": [],
   "source": [
    "from sklearn.decomposition import PCA\n",
    "\n",
    "# Applying PCA with the optimal number of components\n",
    "pca = PCA(n_components=n_components)\n",
    "pca_result = pca.fit_transform(scaled_features)\n",
    "\n",
    "# The pca_result is an array with the transformed features"
   ]
  },
  {
   "cell_type": "code",
   "execution_count": null,
   "id": "06a7dd71-00b3-4a6e-9a57-22242d222a63",
   "metadata": {},
   "outputs": [],
   "source": [
    "import matplotlib.pyplot as plt\n",
    "\n",
    "# For a 2D plot (if n_components=2)\n",
    "plt.scatter(pca_result[:, 0], pca_result[:, 1])\n",
    "plt.xlabel('Principal Component 1')\n",
    "plt.ylabel('Principal Component 2')\n",
    "plt.title('PCA Results')\n",
    "plt.show()\n",
    "\n",
    "# For a 3D plot (if n_components=3)\n",
    "from mpl_toolkits.mplot3d import Axes3D\n",
    "fig = plt.figure()\n",
    "ax = fig.add_subplot(111, projection='3d')\n",
    "ax.scatter(pca_result[:, 0], pca_result[:, 1], pca_result[:, 2])\n",
    "ax.set_xlabel('PC1')\n",
    "ax.set_ylabel('PC2')\n",
    "ax.set_zlabel('PC3')\n",
    "plt.title('3D PCA Results')\n",
    "plt.show()"
   ]
  },
  {
   "cell_type": "code",
   "execution_count": null,
   "id": "8556acbd-dc7b-4e9e-b743-146d74b84e4f",
   "metadata": {},
   "outputs": [],
   "source": [
    "# Step 5: KMeans Clustering — Grouping the Transformed Data"
   ]
  },
  {
   "cell_type": "code",
   "execution_count": null,
   "id": "29f8abc5-cfd8-44a6-83bf-b1f480d02e2b",
   "metadata": {},
   "outputs": [],
   "source": [
    "from sklearn.cluster import KMeans\n",
    "\n",
    "# Determine the number of clusters\n",
    "# (This number can be determined based on domain knowledge, heuristics, or methods like the Elbow Method)\n",
    "n_clusters = # appropriate number of clusters\n",
    "\n",
    "# Applying KMeans clustering\n",
    "kmeans_pca = KMeans(n_clusters=n_clusters, random_state=42)\n",
    "kmeans_pca.fit(pca_result)\n",
    "\n",
    "# The cluster labels for each data point\n",
    "cluster_labels = kmeans_pca.labels_"
   ]
  },
  {
   "cell_type": "code",
   "execution_count": null,
   "id": "31ff9265-63ab-486f-a2d1-aee7b55ad957",
   "metadata": {},
   "outputs": [],
   "source": [
    "# 2D Visualization\n",
    "plt.scatter(pca_result[:, 0], pca_result[:, 1], c=cluster_labels)\n",
    "plt.xlabel('Principal Component 1')\n",
    "plt.ylabel('Principal Component 2')\n",
    "plt.title('KMeans Clustering on PCA Results')\n",
    "plt.show()\n",
    "\n",
    "# 3D Visualization\n",
    "fig = plt.figure()\n",
    "ax = fig.add_subplot(111, projection='3d')\n",
    "ax.scatter(pca_result[:, 0], pca_result[:, 1], pca_result[:, 2], c=cluster_labels)\n",
    "ax.set_xlabel('PC1')\n",
    "ax.set_ylabel('PC2')\n",
    "ax.set_zlabel('PC3')\n",
    "plt.title('3D KMeans Clustering on PCA Results')\n",
    "plt.show()"
   ]
  },
  {
   "cell_type": "code",
   "execution_count": null,
   "id": "c043c096-2eb7-4120-9083-31807a1a8b33",
   "metadata": {},
   "outputs": [],
   "source": [
    "# Step 6: Analyzing PCA Loadings — Understanding What Your Components Represent"
   ]
  },
  {
   "cell_type": "code",
   "execution_count": null,
   "id": "bae842d6-72e2-4770-83c6-f060b1724689",
   "metadata": {},
   "outputs": [],
   "source": [
    "# Get the PCA components (loadings)\n",
    "pca_components = pca.components_\n",
    "\n",
    "# Create a DataFrame for better visualization and analysis\n",
    "pca_loadings_df = pd.DataFrame(pca_components, columns=df.columns, index=[f'PC{i+1}' for i in range(pca.n_components)])\n",
    "\n",
    "# Display the loadings\n",
    "pca_loadings_df"
   ]
  },
  {
   "cell_type": "code",
   "execution_count": null,
   "id": "6c452d89-efd8-4770-8a6f-312cfc2ee5a2",
   "metadata": {},
   "outputs": [],
   "source": [
    "import seaborn as sns\n",
    "\n",
    "# Heatmap of the loadings\n",
    "plt.figure(figsize=(12, 6))\n",
    "sns.heatmap(pca_loadings_df, cmap=\"YlGnBu\", annot=True)\n",
    "plt.title('PCA Loadings')\n",
    "plt.show()"
   ]
  },
  {
   "cell_type": "code",
   "execution_count": null,
   "id": "2796cc0c-38e3-4964-b547-9e50eb4a9f34",
   "metadata": {},
   "outputs": [],
   "source": [
    "# Step 7: From PCA Space to Original Space — Interpreting the Cluster Centers"
   ]
  },
  {
   "cell_type": "code",
   "execution_count": null,
   "id": "75aa48bc-dc24-444c-8945-a05d8c0c5b94",
   "metadata": {},
   "outputs": [],
   "source": [
    "# Inverse transform the cluster centers\n",
    "original_space_centroids = scaler.inverse_transform(pca.inverse_transform(kmeans_pca.cluster_centers_))\n",
    "\n",
    "# Create a DataFrame for the inverse transformed cluster centers\n",
    "centroids_df = pd.DataFrame(original_space_centroids, columns=df.columns)\n",
    "\n",
    "# Display the centroids\n",
    "centroids_df"
   ]
  },
  {
   "cell_type": "code",
   "execution_count": null,
   "id": "61eb8392-71d7-4edc-9657-7e843736c0bd",
   "metadata": {},
   "outputs": [],
   "source": [
    "# Calculate the mean of the original data\n",
    "original_means = df.mean(axis=0)\n",
    "\n",
    "# Append the mean to the centroids for comparison\n",
    "centroids_comparison_df = centroids_df.append(original_means, ignore_index=True)\n",
    "\n",
    "# Display the comparison\n",
    "centroids_comparison_df"
   ]
  },
  {
   "cell_type": "code",
   "execution_count": null,
   "id": "6d3d368f-a1ca-44ba-b985-c7d62771c433",
   "metadata": {},
   "outputs": [],
   "source": [
    "# Step 8: Centroids and Means — Comparing Cluster Centers with the Original Data Mean"
   ]
  },
  {
   "cell_type": "code",
   "execution_count": null,
   "id": "9e8d811a-334d-496d-9633-0bb84b1bdb0f",
   "metadata": {},
   "outputs": [],
   "source": [
    "# Calculate the mean of the original data\n",
    "original_means = df.mean(axis=0)\n",
    "\n",
    "# Append the mean to the centroids for comparison\n",
    "centroids_comparison_df = centroids_df.append(original_means, ignore_index=True)\n",
    "\n",
    "# Display the comparison\n",
    "centroids_comparison_df"
   ]
  },
  {
   "cell_type": "code",
   "execution_count": null,
   "id": "bea96c7a-8d99-4504-b110-d93026c6cf91",
   "metadata": {},
   "outputs": [],
   "source": [
    "import matplotlib.pyplot as plt\n",
    "\n",
    "# Visualizing the comparison\n",
    "centroids_comparison_df.plot(kind='bar', figsize=(15, 6))\n",
    "plt.title('Comparison of Cluster Centroids with the Dataset Mean')\n",
    "plt.xlabel('Cluster / Mean')\n",
    "plt.ylabel('Feature Values')\n",
    "plt.show()"
   ]
  },
  {
   "cell_type": "code",
   "execution_count": null,
   "id": "e0a3a27e-b63c-48e3-bdea-e44129656614",
   "metadata": {},
   "outputs": [],
   "source": [
    "#Step 9: Deep Dive into Loadings — A Closer Look at the Features Influencing Each Principal Component"
   ]
  },
  {
   "cell_type": "code",
   "execution_count": null,
   "id": "d84eb165-771e-4743-bd83-f303e49f863c",
   "metadata": {},
   "outputs": [],
   "source": [
    "import numpy as np\n",
    "\n",
    "# Extract the absolute values of the loadings\n",
    "pca_loadings_analysis = pd.DataFrame(\n",
    "    np.abs(pca.components_), \n",
    "    columns=df.columns, \n",
    "    index=[f'PC{i+1}' for i in range(pca.n_components)]\n",
    ")\n",
    "\n",
    "# Identify the top contributing features for each principal component\n",
    "top_features_per_pc = pca_loadings_analysis.apply(lambda s: s.nlargest(5).index.tolist(), axis=1)\n",
    "\n",
    "top_features_per_pc"
   ]
  },
  {
   "cell_type": "code",
   "execution_count": null,
   "id": "43fd4e54-0ace-4bd4-9b27-eba9bc2ccdfd",
   "metadata": {},
   "outputs": [],
   "source": [
    "# Function to get top features and their loadings\n",
    "def get_top_features_loadings(pca_loadings, n_features):\n",
    "    top_features = {}\n",
    "    for i in range(pca_loadings.shape[0]):\n",
    "        top_indices = np.argsort(np.abs(pca_loadings[i]))[-n_features:]\n",
    "        top_features[f'PC{i+1}'] = {df.columns[j]: pca_loadings[i][j] for j in top_indices}\n",
    "    return top_features\n",
    "\n",
    "# Get and display the top features and their loadings\n",
    "top_features_loadings = get_top_features_loadings(pca.components_, 5)\n",
    "top_features_loadings_df = pd.DataFrame(top_features_loadings).T\n",
    "\n",
    "top_features_loadings_df"
   ]
  },
  {
   "cell_type": "code",
   "execution_count": null,
   "id": "abb526aa-689d-4a10-af36-2d82839869bd",
   "metadata": {},
   "outputs": [],
   "source": []
  },
  {
   "cell_type": "code",
   "execution_count": null,
   "id": "e4a11a6b-25ee-4671-9820-7d36f2dff4d1",
   "metadata": {},
   "outputs": [],
   "source": []
  }
 ],
 "metadata": {
  "kernelspec": {
   "display_name": "Python 3 (ipykernel)",
   "language": "python",
   "name": "python3"
  },
  "language_info": {
   "codemirror_mode": {
    "name": "ipython",
    "version": 3
   },
   "file_extension": ".py",
   "mimetype": "text/x-python",
   "name": "python",
   "nbconvert_exporter": "python",
   "pygments_lexer": "ipython3",
   "version": "3.12.4"
  }
 },
 "nbformat": 4,
 "nbformat_minor": 5
}
