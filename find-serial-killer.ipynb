{
 "cells": [
  {
   "cell_type": "markdown",
   "id": "81b935d1-52b3-498c-9f09-f9457a6bcf48",
   "metadata": {},
   "source": [
    "# drlee.io/how-to-find-a-serial-killer-in-the-data-a-step-by-step-guide-e403fc471971"
   ]
  },
  {
   "cell_type": "code",
   "execution_count": null,
   "id": "23e2b469-9f45-4fa0-b920-dedf281a428e",
   "metadata": {},
   "outputs": [],
   "source": []
  }
 ],
 "metadata": {
  "kernelspec": {
   "display_name": "Python 3 (ipykernel)",
   "language": "python",
   "name": "python3"
  },
  "language_info": {
   "codemirror_mode": {
    "name": "ipython",
    "version": 3
   },
   "file_extension": ".py",
   "mimetype": "text/x-python",
   "name": "python",
   "nbconvert_exporter": "python",
   "pygments_lexer": "ipython3",
   "version": "3.12.4"
  }
 },
 "nbformat": 4,
 "nbformat_minor": 5
}
