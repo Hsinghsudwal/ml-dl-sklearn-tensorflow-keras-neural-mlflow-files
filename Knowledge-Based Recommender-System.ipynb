{
 "cells": [
  {
   "cell_type": "markdown",
   "id": "b4edb029-f37f-4b55-9e6d-e2d38390154b",
   "metadata": {},
   "source": [
    "Building a Knowledge-Based Recommender System in Python"
   ]
  },
  {
   "cell_type": "code",
   "execution_count": null,
   "id": "0dde6202-f07d-41f0-82f4-d5ff8f85a48a",
   "metadata": {},
   "outputs": [],
   "source": [
    "# Step 1: Download the Dataset\n",
    "\n",
    "import pandas as pd\n",
    "import kagglehub\n",
    "\n",
    "# Download dataset\n",
    "path = kagglehub.dataset_download(\"abhijitdahatonde/zomato-restaurants-dataset\")\n",
    "\n",
    "# Load and inspect data\n",
    "df = pd.read_csv(path + \"/zomato.csv\")\n",
    "print(\"Dataset Shape:\", df.shape)\n",
    "df.head()"
   ]
  },
  {
   "cell_type": "code",
   "execution_count": null,
   "id": "a2d9d598-1d36-42cf-825f-9f0a4eff4c6d",
   "metadata": {},
   "outputs": [],
   "source": [
    "# Step 2: Adjusting feature selection based on actual dataset column names\n",
    "relevant_features = ['restaurant name', 'restaurant type', 'rate (out of 5)', \n",
    "                     'num of ratings', 'avg cost (two people)', 'cuisines type', 'area']\n",
    "df = df[relevant_features]\n",
    "\n",
    "# Drop rows with missing values\n",
    "df.dropna(inplace=True)\n",
    "df.head()"
   ]
  },
  {
   "cell_type": "code",
   "execution_count": null,
   "id": "8ed27ef5-9869-4ed2-9d4f-333a22f4b2bb",
   "metadata": {},
   "outputs": [],
   "source": [
    "# Step 3: Define the Recommendation Function\n",
    "def get_recommendations(preferences, data):\n",
    "    \"\"\"\n",
    "    Filters items based on user preferences.\n",
    "\n",
    "    Parameters:\n",
    "    - preferences: A dictionary containing user-defined feature preferences\n",
    "    - data: The DataFrame containing restaurant data\n",
    "\n",
    "    Returns:\n",
    "    - DataFrame: Filtered items matching the preferences\n",
    "    \"\"\"\n",
    "    filtered_data = data.copy()  # Start with a copy of the dataset\n",
    "    for feature, value in preferences.items():  # Iterate over each preference\n",
    "        if value:  # Only apply filtering if a preference is specified\n",
    "            if feature == 'cuisines type':\n",
    "                # For cuisines, use contains for flexible matching\n",
    "                filtered_data = filtered_data[filtered_data[feature].str.contains(value, case=False, na=False)]\n",
    "            else:\n",
    "                filtered_data = filtered_data[filtered_data[feature] == value]\n",
    "    return filtered_data"
   ]
  },
  {
   "cell_type": "code",
   "execution_count": null,
   "id": "6db9a0a1-1353-49e0-a8b0-638aebf382b0",
   "metadata": {},
   "outputs": [],
   "source": [
    "# Step 4: Define User Preferences\n",
    "\n",
    "# Define user preferences\n",
    "user_preferences = {\n",
    "    'restaurant type': 'Casual Dining',      # Example preference for restaurant type\n",
    "    'cuisines type': 'Italian',              # Preferred cuisine\n",
    "    'area': 'Indiranagar'                    # Location preference\n",
    "}"
   ]
  },
  {
   "cell_type": "code",
   "execution_count": null,
   "id": "60b6c00b-dcbb-4ff8-93cb-b8684715882c",
   "metadata": {},
   "outputs": [],
   "source": [
    "# Step 5: Get Recommendations\n",
    "# Get recommendations based on preferences\n",
    "recommendations = get_recommendations(user_preferences, df)\n",
    "\n",
    "# Display recommendations\n",
    "print(\"Recommended Restaurants:\")\n",
    "recommendations.head()"
   ]
  },
  {
   "cell_type": "code",
   "execution_count": null,
   "id": "fc119036-6aea-4e19-a43b-a3f702586fbe",
   "metadata": {},
   "outputs": [],
   "source": []
  },
  {
   "cell_type": "code",
   "execution_count": null,
   "id": "79a95699-edb5-41a2-82e4-332cbbae8a38",
   "metadata": {},
   "outputs": [],
   "source": []
  },
  {
   "cell_type": "code",
   "execution_count": null,
   "id": "50463ead-f6e2-4432-b2c6-f5aa7dea2911",
   "metadata": {},
   "outputs": [],
   "source": []
  },
  {
   "cell_type": "code",
   "execution_count": null,
   "id": "0c35d8b0-b770-4190-9c4c-988534f7d890",
   "metadata": {},
   "outputs": [],
   "source": []
  },
  {
   "cell_type": "code",
   "execution_count": null,
   "id": "ee483905-a60c-4b55-85c7-54ce60ebc126",
   "metadata": {},
   "outputs": [],
   "source": []
  },
  {
   "cell_type": "code",
   "execution_count": null,
   "id": "49019866-3694-422a-84ff-8e85a8ed0e26",
   "metadata": {},
   "outputs": [],
   "source": []
  }
 ],
 "metadata": {
  "kernelspec": {
   "display_name": "Python 3 (ipykernel)",
   "language": "python",
   "name": "python3"
  },
  "language_info": {
   "codemirror_mode": {
    "name": "ipython",
    "version": 3
   },
   "file_extension": ".py",
   "mimetype": "text/x-python",
   "name": "python",
   "nbconvert_exporter": "python",
   "pygments_lexer": "ipython3",
   "version": "3.12.7"
  }
 },
 "nbformat": 4,
 "nbformat_minor": 5
}
