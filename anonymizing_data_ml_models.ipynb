{
 "cells": [
  {
   "cell_type": "code",
   "execution_count": 1,
   "id": "e303130b-20ea-4a56-bec4-5a3bf3e7d74c",
   "metadata": {},
   "outputs": [],
   "source": [
    "## Anonymizing Data for Machine Learning Models"
   ]
  },
  {
   "cell_type": "code",
   "execution_count": 2,
   "id": "49050264-0d3f-4656-ac21-259baadd3080",
   "metadata": {},
   "outputs": [],
   "source": [
    "import pandas as pd\n",
    "from sklearn.model_selection import train_test_split\n",
    "from sklearn.ensemble import RandomForestClassifier\n",
    "from sklearn.metrics import accuracy_score, classification_report"
   ]
  },
  {
   "cell_type": "code",
   "execution_count": 3,
   "id": "55aa9d01-aca1-4cec-85f0-710bcb872dbb",
   "metadata": {},
   "outputs": [
    {
     "name": "stdout",
     "output_type": "stream",
     "text": [
      "Original Data:\n",
      "      Name          SSN  Age  Income  Defaulted\n",
      "0    Alice  123-45-6789   25   50000          0\n",
      "1      Bob  987-65-4321   45   80000          1\n",
      "2  Charlie  456-78-9012   35   60000          0\n",
      "3    David  321-54-9876   50  100000          1\n",
      "4      Eva  654-32-1098   29   55000          0\n"
     ]
    }
   ],
   "source": [
    "# Sample dataset with sensitive information\n",
    "data = pd.DataFrame({\n",
    "    'Name': ['Alice', 'Bob', 'Charlie', 'David', 'Eva'],\n",
    "    'SSN': ['123-45-6789', '987-65-4321', '456-78-9012', '321-54-9876', '654-32-1098'],\n",
    "    'Age': [25, 45, 35, 50, 29],\n",
    "    'Income': [50000, 80000, 60000, 100000, 55000],\n",
    "    'Defaulted': [0, 1, 0, 1, 0]  # Target variable: 1 = Defaulted, 0 = Not Defaulted\n",
    "})\n",
    "\n",
    "print(\"Original Data:\")\n",
    "print(data)"
   ]
  },
  {
   "cell_type": "code",
   "execution_count": 4,
   "id": "c7efe3a7-551d-4b83-b5f8-06932718b060",
   "metadata": {},
   "outputs": [
    {
     "name": "stdout",
     "output_type": "stream",
     "text": [
      "\n",
      "Anonymized Data:\n",
      "   Age  Income  Defaulted  Anonymized_ID\n",
      "0   25   50000          0              1\n",
      "1   45   80000          1              2\n",
      "2   35   60000          0              3\n",
      "3   50  100000          1              4\n",
      "4   29   55000          0              5\n"
     ]
    }
   ],
   "source": [
    "# Anonymize sensitive data\n",
    "data['Anonymized_ID'] = range(1, len(data) + 1)  # Assign unique IDs\n",
    "anonymized_data = data.drop(columns=['Name', 'SSN'])  # Remove sensitive columns\n",
    "\n",
    "print(\"\\nAnonymized Data:\")\n",
    "print(anonymized_data)"
   ]
  },
  {
   "cell_type": "code",
   "execution_count": 5,
   "id": "4026c946-c714-41fb-8774-9307ac7a001c",
   "metadata": {},
   "outputs": [],
   "source": [
    "# Splitting features and target\n",
    "X = anonymized_data[['Age', 'Income']]\n",
    "y = anonymized_data['Defaulted']\n",
    "\n",
    "# Splitting into training and test sets\n",
    "X_train, X_test, y_train, y_test = train_test_split(X, y, test_size=0.3, random_state=42)"
   ]
  },
  {
   "cell_type": "code",
   "execution_count": 6,
   "id": "533e9485-205c-42b9-89d7-398b7128c870",
   "metadata": {},
   "outputs": [
    {
     "name": "stdout",
     "output_type": "stream",
     "text": [
      "Accuracy: 0.5\n",
      "\n",
      "Classification Report:\n",
      "              precision    recall  f1-score   support\n",
      "\n",
      "           0       0.50      1.00      0.67         1\n",
      "           1       0.00      0.00      0.00         1\n",
      "\n",
      "    accuracy                           0.50         2\n",
      "   macro avg       0.25      0.50      0.33         2\n",
      "weighted avg       0.25      0.50      0.33         2\n",
      "\n"
     ]
    },
    {
     "name": "stderr",
     "output_type": "stream",
     "text": [
      "C:\\Users\\sudwa\\anaconda3\\envs\\kedro\\Lib\\site-packages\\sklearn\\metrics\\_classification.py:1565: UndefinedMetricWarning: Precision is ill-defined and being set to 0.0 in labels with no predicted samples. Use `zero_division` parameter to control this behavior.\n",
      "  _warn_prf(average, modifier, f\"{metric.capitalize()} is\", len(result))\n",
      "C:\\Users\\sudwa\\anaconda3\\envs\\kedro\\Lib\\site-packages\\sklearn\\metrics\\_classification.py:1565: UndefinedMetricWarning: Precision is ill-defined and being set to 0.0 in labels with no predicted samples. Use `zero_division` parameter to control this behavior.\n",
      "  _warn_prf(average, modifier, f\"{metric.capitalize()} is\", len(result))\n",
      "C:\\Users\\sudwa\\anaconda3\\envs\\kedro\\Lib\\site-packages\\sklearn\\metrics\\_classification.py:1565: UndefinedMetricWarning: Precision is ill-defined and being set to 0.0 in labels with no predicted samples. Use `zero_division` parameter to control this behavior.\n",
      "  _warn_prf(average, modifier, f\"{metric.capitalize()} is\", len(result))\n"
     ]
    }
   ],
   "source": [
    "# Training the model\n",
    "model = RandomForestClassifier(random_state=42)\n",
    "model.fit(X_train, y_train)\n",
    "\n",
    "# Making predictions\n",
    "y_pred = model.predict(X_test)\n",
    "# Evaluating the model\n",
    "print(\"Accuracy:\", accuracy_score(y_test, y_pred))\n",
    "print(\"\\nClassification Report:\")\n",
    "print(classification_report(y_test, y_pred))"
   ]
  },
  {
   "cell_type": "code",
   "execution_count": 7,
   "id": "cb00deae-40a3-42cd-852e-545310cfd9ac",
   "metadata": {},
   "outputs": [
    {
     "name": "stdout",
     "output_type": "stream",
     "text": [
      "\n",
      "Data Privacy Compliance: Sensitive information successfully removed!\n"
     ]
    }
   ],
   "source": [
    "# Verify that sensitive data was removed\n",
    "if 'Name' not in anonymized_data.columns and 'SSN' not in anonymized_data.columns:\n",
    "    print(\"\\nData Privacy Compliance: Sensitive information successfully removed!\")\n",
    "else:\n",
    "    print(\"\\nWarning: Sensitive information is still present!\")"
   ]
  },
  {
   "cell_type": "code",
   "execution_count": null,
   "id": "e6338b03-3f2a-47e5-a841-f1d150497b02",
   "metadata": {},
   "outputs": [],
   "source": []
  }
 ],
 "metadata": {
  "kernelspec": {
   "display_name": "Python 3 (ipykernel)",
   "language": "python",
   "name": "python3"
  },
  "language_info": {
   "codemirror_mode": {
    "name": "ipython",
    "version": 3
   },
   "file_extension": ".py",
   "mimetype": "text/x-python",
   "name": "python",
   "nbconvert_exporter": "python",
   "pygments_lexer": "ipython3",
   "version": "3.11.0"
  }
 },
 "nbformat": 4,
 "nbformat_minor": 5
}
