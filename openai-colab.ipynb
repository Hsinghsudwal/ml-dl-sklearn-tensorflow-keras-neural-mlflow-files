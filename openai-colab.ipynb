{
 "cells": [
  {
   "cell_type": "code",
   "execution_count": 1,
   "id": "8aca551d-e69f-4062-8c2f-b56777e25ede",
   "metadata": {},
   "outputs": [],
   "source": [
    "# Integrating the New OpenAI Models into Your Pipelines with Python and Colab"
   ]
  },
  {
   "cell_type": "code",
   "execution_count": null,
   "id": "3008119a-c698-441d-94a1-d8346a0f4aa5",
   "metadata": {},
   "outputs": [],
   "source": [
    "!pip install openai"
   ]
  },
  {
   "cell_type": "code",
   "execution_count": null,
   "id": "064c16fe-954d-4ed6-9104-38bc8c5456b5",
   "metadata": {},
   "outputs": [],
   "source": [
    "# Step 1: Setting up the OpenAI API in Colab\n",
    "\n",
    "import os\n",
    "from openai import OpenAI\n",
    "\n",
    "# Set the API key securely\n",
    "os.environ['OPENAI_API_KEY'] = \"your_api_key_here\"\n",
    "\n",
    "# Create the OpenAI client\n",
    "client = OpenAI()"
   ]
  },
  {
   "cell_type": "code",
   "execution_count": null,
   "id": "13776a03-d3a0-4fd5-933e-70fbcc4799a1",
   "metadata": {},
   "outputs": [],
   "source": [
    "# Step 2: Generating Text Completions with GPT-4\n",
    "\n",
    "completion = client.chat.completions.create(\n",
    "    model=\"gpt-4o-mini\",\n",
    "    messages=[\n",
    "        {\"role\": \"system\", \"content\": \"You are a helpful assistant.\"},\n",
    "        {\n",
    "            \"role\": \"user\",\n",
    "            \"content\": \"Write a haiku about I love JNJ.\"\n",
    "        }\n",
    "    ]\n",
    ")\n",
    "\n",
    "# Print the response\n",
    "print(completion.choices[0].message)"
   ]
  },
  {
   "cell_type": "code",
   "execution_count": null,
   "id": "7d6fb2b1-f473-40fd-be23-26c664fbc8ed",
   "metadata": {},
   "outputs": [],
   "source": [
    "# Step 3: Generating Images with DALL·E\n",
    "\n",
    "# Corrected code for outputting the URLs for generated images\n",
    "response = client.images.generate(\n",
    "    prompt=\"A cute baby sea otter\",\n",
    "    n=2,\n",
    "    size=\"1024x1024\"\n",
    ")\n",
    "# Inspect the entire response object\n",
    "print(response)\n",
    "\n",
    "# Optionally, check the type of the response to understand its structure\n",
    "print(type(response))\n",
    "\n",
    "# Output the URL(s) of the generated image(s)\n",
    "for img_data in response.data:\n",
    "    print(img_data.url)"
   ]
  },
  {
   "cell_type": "code",
   "execution_count": null,
   "id": "dc1d9b9b-476e-4ad0-b32b-59fd94c01e27",
   "metadata": {},
   "outputs": [],
   "source": [
    "# Step 4: Creating Embeddings for Semantic Search\n",
    "\n",
    "response = client.embeddings.create(\n",
    "    model=\"text-embedding-3-large\",\n",
    "    input=\"The food was delicious and the waiter was friendly.\"\n",
    ")\n",
    "\n",
    "# Print the embeddings\n",
    "print(response)"
   ]
  },
  {
   "cell_type": "code",
   "execution_count": null,
   "id": "40979c73-825c-4eb4-a123-d89e066c3a86",
   "metadata": {},
   "outputs": [],
   "source": [
    "# Let’s look at Text to Speech:\n",
    "\n",
    "from pathlib import Path\n",
    "from openai import OpenAI\n",
    "client = OpenAI()\n",
    "\n",
    "speech_file_path = Path(__file__).parent / \"speech.mp3\"\n",
    "response = client.audio.speech.create(\n",
    "  model=\"tts-1\",\n",
    "  voice=\"alloy\",\n",
    "  input=\"Today is a wonderful day to build something people love!\"\n",
    ")\n",
    "\n",
    "response.stream_to_file(speech_file_path)"
   ]
  },
  {
   "cell_type": "code",
   "execution_count": null,
   "id": "ef675e75-44cc-4ead-bf49-8f242e74f069",
   "metadata": {},
   "outputs": [],
   "source": [
    "# Content Moderation:\n",
    "\n",
    "from openai import OpenAI\n",
    "client = OpenAI()\n",
    "\n",
    "response = client.moderations.create(input=\"I love Johnson and Johnson.\")\n",
    "\n",
    "output = response.results[0]\n",
    "output"
   ]
  },
  {
   "cell_type": "code",
   "execution_count": null,
   "id": "73fce3d3-496a-47f1-899a-5c327e9c4e07",
   "metadata": {},
   "outputs": [],
   "source": [
    "# 1. Automated Reports & Data Analysis\n",
    "# Automatically generate a report summary from data embeddings and analytics\n",
    "completion = client.chat.completions.create(\n",
    "    model=\"gpt-4\",\n",
    "    messages=[\n",
    "        {\"role\": \"system\", \"content\": \"You are a data analyst.\"},\n",
    "        {\"role\": \"user\", \"content\": \"Summarize the key trends in customer satisfaction for the past quarter.\"}\n",
    "    ]\n",
    ")\n",
    "print(completion.choices[0].message['content'])"
   ]
  },
  {
   "cell_type": "code",
   "execution_count": null,
   "id": "37780f3c-bed6-418d-9ec4-b50dea6cb289",
   "metadata": {},
   "outputs": [],
   "source": [
    "# Generate creative ad copy for a product launch\n",
    "completion = client.chat.completions.create(\n",
    "    model=\"gpt-4\",\n",
    "    messages=[\n",
    "        {\"role\": \"system\", \"content\": \"You are a creative ad writer.\"},\n",
    "        {\"role\": \"user\", \"content\": \"Create a catchy tagline for our new sustainable skincare line.\"}\n",
    "    ]\n",
    ")\n",
    "print(completion.choices[0].message['content'])"
   ]
  },
  {
   "cell_type": "code",
   "execution_count": null,
   "id": "8ba6bd81-48e1-4fba-b221-8f58f6a35b7f",
   "metadata": {},
   "outputs": [],
   "source": [
    "# Create a chatbot to answer basic product questions\n",
    "completion = client.chat.completions.create(\n",
    "    model=\"gpt-4\",\n",
    "    messages=[\n",
    "        {\"role\": \"system\", \"content\": \"You are a customer service assistant.\"},\n",
    "        {\"role\": \"user\", \"content\": \"What is the warranty policy for our products?\"}\n",
    "    ]\n",
    ")\n",
    "print(completion.choices[0].message['content'])"
   ]
  },
  {
   "cell_type": "code",
   "execution_count": null,
   "id": "036060fb-4fcc-4201-8a8a-f6931f6dd160",
   "metadata": {},
   "outputs": [],
   "source": [
    "# Use content moderation to filter harmful content\n",
    "response = client.moderations.create(input=\"Some inappropriate content here.\")\n",
    "output = response.results[0]\n",
    "print(output)"
   ]
  },
  {
   "cell_type": "code",
   "execution_count": null,
   "id": "73493e0b-1efe-4f75-a0bc-d0afb68462cc",
   "metadata": {},
   "outputs": [],
   "source": [
    "# . Voice Narration and Personalization\n",
    "from pathlib import Path\n",
    "\n",
    "speech_file_path = Path(__file__).parent / \"personalized_narration.mp3\"\n",
    "response = client.audio.speech.create(\n",
    "  model=\"tts-1\",\n",
    "  voice=\"alloy\",\n",
    "  input=\"Welcome to our latest blog post on AI-driven innovation!\"\n",
    ")\n",
    "response.stream_to_file(speech_file_path)"
   ]
  },
  {
   "cell_type": "code",
   "execution_count": null,
   "id": "3db1bb37-d8d2-4d63-b622-dc063cb7a8c2",
   "metadata": {},
   "outputs": [],
   "source": []
  }
 ],
 "metadata": {
  "kernelspec": {
   "display_name": "Python 3 (ipykernel)",
   "language": "python",
   "name": "python3"
  },
  "language_info": {
   "codemirror_mode": {
    "name": "ipython",
    "version": 3
   },
   "file_extension": ".py",
   "mimetype": "text/x-python",
   "name": "python",
   "nbconvert_exporter": "python",
   "pygments_lexer": "ipython3",
   "version": "3.12.4"
  }
 },
 "nbformat": 4,
 "nbformat_minor": 5
}
