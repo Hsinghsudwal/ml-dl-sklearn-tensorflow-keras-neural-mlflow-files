{
 "cells": [
  {
   "cell_type": "markdown",
   "id": "869618a0-8764-460e-8d38-249e5171ea89",
   "metadata": {},
   "source": [
    "### Regression Modeling with TensorFlow Made Easy"
   ]
  },
  {
   "cell_type": "code",
   "execution_count": 1,
   "id": "5e270c9d-d465-49fd-9dd9-5db3ae8922ee",
   "metadata": {},
   "outputs": [],
   "source": [
    "# Step 1: Set Up Your Environment\n",
    "# Import necessary libraries\n",
    "import numpy as np\n",
    "import pandas as pd\n",
    "import tensorflow as tf\n",
    "from tensorflow.keras import Sequential\n",
    "from tensorflow.keras.layers import Dense\n",
    "from sklearn.model_selection import train_test_split\n",
    "from sklearn.preprocessing import MinMaxScaler, OneHotEncoder\n",
    "from sklearn.compose import make_column_transformer\n",
    "from scipy import stats\n",
    "import matplotlib.pyplot as plt"
   ]
  },
  {
   "cell_type": "code",
   "execution_count": 2,
   "id": "e9a4d629-d77c-457b-8e59-7acd5aecb7cd",
   "metadata": {},
   "outputs": [
    {
     "data": {
      "text/html": [
       "<div>\n",
       "<style scoped>\n",
       "    .dataframe tbody tr th:only-of-type {\n",
       "        vertical-align: middle;\n",
       "    }\n",
       "\n",
       "    .dataframe tbody tr th {\n",
       "        vertical-align: top;\n",
       "    }\n",
       "\n",
       "    .dataframe thead th {\n",
       "        text-align: right;\n",
       "    }\n",
       "</style>\n",
       "<table border=\"1\" class=\"dataframe\">\n",
       "  <thead>\n",
       "    <tr style=\"text-align: right;\">\n",
       "      <th></th>\n",
       "      <th>bedrooms</th>\n",
       "      <th>sqft_living</th>\n",
       "      <th>sqft_lot</th>\n",
       "      <th>floors</th>\n",
       "      <th>sqft_above</th>\n",
       "      <th>sqft_basement</th>\n",
       "      <th>price</th>\n",
       "    </tr>\n",
       "    <tr>\n",
       "      <th>id</th>\n",
       "      <th></th>\n",
       "      <th></th>\n",
       "      <th></th>\n",
       "      <th></th>\n",
       "      <th></th>\n",
       "      <th></th>\n",
       "      <th></th>\n",
       "    </tr>\n",
       "  </thead>\n",
       "  <tbody>\n",
       "    <tr>\n",
       "      <th>7129300520</th>\n",
       "      <td>3</td>\n",
       "      <td>1180</td>\n",
       "      <td>5650</td>\n",
       "      <td>1</td>\n",
       "      <td>1180</td>\n",
       "      <td>0</td>\n",
       "      <td>221900.0</td>\n",
       "    </tr>\n",
       "    <tr>\n",
       "      <th>6414100192</th>\n",
       "      <td>3</td>\n",
       "      <td>2570</td>\n",
       "      <td>7242</td>\n",
       "      <td>2</td>\n",
       "      <td>2170</td>\n",
       "      <td>400</td>\n",
       "      <td>538000.0</td>\n",
       "    </tr>\n",
       "    <tr>\n",
       "      <th>5631500400</th>\n",
       "      <td>2</td>\n",
       "      <td>770</td>\n",
       "      <td>10000</td>\n",
       "      <td>1</td>\n",
       "      <td>770</td>\n",
       "      <td>0</td>\n",
       "      <td>180000.0</td>\n",
       "    </tr>\n",
       "    <tr>\n",
       "      <th>2487200875</th>\n",
       "      <td>4</td>\n",
       "      <td>1960</td>\n",
       "      <td>5000</td>\n",
       "      <td>1</td>\n",
       "      <td>1050</td>\n",
       "      <td>910</td>\n",
       "      <td>604000.0</td>\n",
       "    </tr>\n",
       "    <tr>\n",
       "      <th>1954400510</th>\n",
       "      <td>3</td>\n",
       "      <td>1680</td>\n",
       "      <td>8080</td>\n",
       "      <td>1</td>\n",
       "      <td>1680</td>\n",
       "      <td>0</td>\n",
       "      <td>510000.0</td>\n",
       "    </tr>\n",
       "  </tbody>\n",
       "</table>\n",
       "</div>"
      ],
      "text/plain": [
       "            bedrooms  sqft_living  sqft_lot  floors  sqft_above  \\\n",
       "id                                                                \n",
       "7129300520         3         1180      5650       1        1180   \n",
       "6414100192         3         2570      7242       2        2170   \n",
       "5631500400         2          770     10000       1         770   \n",
       "2487200875         4         1960      5000       1        1050   \n",
       "1954400510         3         1680      8080       1        1680   \n",
       "\n",
       "            sqft_basement     price  \n",
       "id                                   \n",
       "7129300520              0  221900.0  \n",
       "6414100192            400  538000.0  \n",
       "5631500400              0  180000.0  \n",
       "2487200875            910  604000.0  \n",
       "1954400510              0  510000.0  "
      ]
     },
     "execution_count": 2,
     "metadata": {},
     "output_type": "execute_result"
    }
   ],
   "source": [
    "# Step 2: Load and Explore the Dataset\n",
    "# Load the data and set the 'id' column as the index\n",
    "url = 'https://github.com/fenago/datasets/raw/refs/heads/main/Regression_housedata.csv'\n",
    "df = pd.read_csv(url, sep=';', index_col='id')\n",
    "df.head()"
   ]
  },
  {
   "cell_type": "code",
   "execution_count": 3,
   "id": "c4095fb1-164d-40be-ac44-53d587745287",
   "metadata": {},
   "outputs": [],
   "source": [
    "# Step 3: Data Cleaning\n",
    "# Drop columns if necessary (commented for template purposes)\n",
    "# columns_to_drop = ['some_column']\n",
    "# df = df.drop(columns=columns_to_drop)"
   ]
  },
  {
   "cell_type": "code",
   "execution_count": 4,
   "id": "7f8aab06-0e74-4e88-bc23-22e08474cbc2",
   "metadata": {},
   "outputs": [
    {
     "data": {
      "text/html": [
       "<div>\n",
       "<style scoped>\n",
       "    .dataframe tbody tr th:only-of-type {\n",
       "        vertical-align: middle;\n",
       "    }\n",
       "\n",
       "    .dataframe tbody tr th {\n",
       "        vertical-align: top;\n",
       "    }\n",
       "\n",
       "    .dataframe thead th {\n",
       "        text-align: right;\n",
       "    }\n",
       "</style>\n",
       "<table border=\"1\" class=\"dataframe\">\n",
       "  <thead>\n",
       "    <tr style=\"text-align: right;\">\n",
       "      <th></th>\n",
       "      <th>Column</th>\n",
       "      <th>Data Type</th>\n",
       "      <th>Unique Values</th>\n",
       "      <th>Potential Problems</th>\n",
       "      <th>Recommendations</th>\n",
       "    </tr>\n",
       "  </thead>\n",
       "  <tbody>\n",
       "    <tr>\n",
       "      <th>0</th>\n",
       "      <td>bedrooms</td>\n",
       "      <td>int64</td>\n",
       "      <td>8</td>\n",
       "      <td>None</td>\n",
       "      <td>None</td>\n",
       "    </tr>\n",
       "    <tr>\n",
       "      <th>1</th>\n",
       "      <td>sqft_living</td>\n",
       "      <td>int64</td>\n",
       "      <td>321</td>\n",
       "      <td>Wide range of values</td>\n",
       "      <td>Consider scaling (e.g., Min-Max or Standard Sc...</td>\n",
       "    </tr>\n",
       "    <tr>\n",
       "      <th>2</th>\n",
       "      <td>sqft_lot</td>\n",
       "      <td>int64</td>\n",
       "      <td>828</td>\n",
       "      <td>Wide range of values</td>\n",
       "      <td>Consider scaling (e.g., Min-Max or Standard Sc...</td>\n",
       "    </tr>\n",
       "    <tr>\n",
       "      <th>3</th>\n",
       "      <td>floors</td>\n",
       "      <td>int64</td>\n",
       "      <td>3</td>\n",
       "      <td>None</td>\n",
       "      <td>None</td>\n",
       "    </tr>\n",
       "    <tr>\n",
       "      <th>4</th>\n",
       "      <td>sqft_above</td>\n",
       "      <td>int64</td>\n",
       "      <td>291</td>\n",
       "      <td>Wide range of values</td>\n",
       "      <td>Consider scaling (e.g., Min-Max or Standard Sc...</td>\n",
       "    </tr>\n",
       "    <tr>\n",
       "      <th>5</th>\n",
       "      <td>sqft_basement</td>\n",
       "      <td>int64</td>\n",
       "      <td>140</td>\n",
       "      <td>Wide range of values</td>\n",
       "      <td>Consider scaling (e.g., Min-Max or Standard Sc...</td>\n",
       "    </tr>\n",
       "    <tr>\n",
       "      <th>6</th>\n",
       "      <td>price</td>\n",
       "      <td>float64</td>\n",
       "      <td>580</td>\n",
       "      <td>Wide range of values</td>\n",
       "      <td>Consider scaling (e.g., Min-Max or Standard Sc...</td>\n",
       "    </tr>\n",
       "  </tbody>\n",
       "</table>\n",
       "</div>"
      ],
      "text/plain": [
       "          Column Data Type  Unique Values    Potential Problems  \\\n",
       "0       bedrooms     int64              8                  None   \n",
       "1    sqft_living     int64            321  Wide range of values   \n",
       "2       sqft_lot     int64            828  Wide range of values   \n",
       "3         floors     int64              3                  None   \n",
       "4     sqft_above     int64            291  Wide range of values   \n",
       "5  sqft_basement     int64            140  Wide range of values   \n",
       "6          price   float64            580  Wide range of values   \n",
       "\n",
       "                                     Recommendations  \n",
       "0                                               None  \n",
       "1  Consider scaling (e.g., Min-Max or Standard Sc...  \n",
       "2  Consider scaling (e.g., Min-Max or Standard Sc...  \n",
       "3                                               None  \n",
       "4  Consider scaling (e.g., Min-Max or Standard Sc...  \n",
       "5  Consider scaling (e.g., Min-Max or Standard Sc...  \n",
       "6  Consider scaling (e.g., Min-Max or Standard Sc...  "
      ]
     },
     "execution_count": 4,
     "metadata": {},
     "output_type": "execute_result"
    }
   ],
   "source": [
    "import pandas as pd\n",
    "import numpy as np\n",
    "\n",
    "def data_quality_report(df):\n",
    "    report = []\n",
    "\n",
    "    for col in df.columns:\n",
    "        col_data = df[col]\n",
    "        col_type = col_data.dtype\n",
    "        unique_values = col_data.nunique()\n",
    "        missing_values = col_data.isnull().sum()\n",
    "        \n",
    "        # Initialize problem and recommendation lists\n",
    "        problems = []\n",
    "        recommendations = []\n",
    "        \n",
    "        # Check for high cardinality in non-numeric columns\n",
    "        if col_type == 'object' and unique_values > 50:\n",
    "            problems.append(\"High cardinality (many unique values)\")\n",
    "            recommendations.append(\"Consider encoding with caution or reducing categories\")\n",
    "        \n",
    "        # Check for missing values\n",
    "        if missing_values > 0:\n",
    "            problems.append(f\"Missing values (count: {missing_values})\")\n",
    "            recommendations.append(\"Consider imputing missing values or removing rows\")\n",
    "\n",
    "        # For numeric columns only, check for infinities, scaling, and other issues\n",
    "        if pd.api.types.is_numeric_dtype(col_data):\n",
    "            # Check for infinities\n",
    "            has_inf = np.isinf(col_data).sum()\n",
    "            if has_inf > 0:\n",
    "                problems.append(f\"Infinities found (count: {has_inf})\")\n",
    "                recommendations.append(\"Consider replacing infinities with a large finite value\")\n",
    "            \n",
    "            # Check if scaling is needed based on range\n",
    "            col_range = col_data.max() - col_data.min()\n",
    "            if col_range > 1000 or col_data.std() > 100:\n",
    "                problems.append(\"Wide range of values\")\n",
    "                recommendations.append(\"Consider scaling (e.g., Min-Max or Standard Scaler)\")\n",
    "\n",
    "        # Check if column is non-numeric and may need encoding\n",
    "        elif col_type == 'object':\n",
    "            problems.append(\"Non-numeric column may require encoding\")\n",
    "            recommendations.append(\"Consider one-hot encoding or label encoding if needed\")\n",
    "        \n",
    "        # Add column summary to report\n",
    "        report.append({\n",
    "            \"Column\": col,\n",
    "            \"Data Type\": col_type,\n",
    "            \"Unique Values\": unique_values,\n",
    "            \"Potential Problems\": \"; \".join(problems) if problems else \"None\",\n",
    "            \"Recommendations\": \"; \".join(recommendations) if recommendations else \"None\"\n",
    "        })\n",
    "\n",
    "    # Convert report to a DataFrame for easy viewing\n",
    "    report_df = pd.DataFrame(report)\n",
    "    return report_df\n",
    "\n",
    "# Usage example\n",
    "report_df = data_quality_report(df)\n",
    "report_df"
   ]
  },
  {
   "cell_type": "code",
   "execution_count": 5,
   "id": "68282bd3-c780-46f3-9bbf-43b76cf8bc20",
   "metadata": {},
   "outputs": [
    {
     "name": "stdout",
     "output_type": "stream",
     "text": [
      "bedrooms         0\n",
      "sqft_living      0\n",
      "sqft_lot         0\n",
      "floors           0\n",
      "sqft_above       0\n",
      "sqft_basement    0\n",
      "price            0\n",
      "dtype: int64\n"
     ]
    }
   ],
   "source": [
    "# Check for missing values\n",
    "print(df.isnull().sum())"
   ]
  },
  {
   "cell_type": "code",
   "execution_count": 6,
   "id": "f4e49596-89c2-43a5-8c89-4c86842fdd73",
   "metadata": {},
   "outputs": [],
   "source": [
    "# Step 4: Feature Engineering\n",
    "df['total_sqft'] = df['sqft_living'] + df['sqft_basement']"
   ]
  },
  {
   "cell_type": "code",
   "execution_count": 7,
   "id": "e3461113-62d9-494d-a967-e10d94531d25",
   "metadata": {},
   "outputs": [
    {
     "data": {
      "image/png": "[encoded data removed]",
      "text/plain": [
       "<Figure size 640x480 with 1 Axes>"
      ]
     },
     "metadata": {},
     "output_type": "display_data"
    }
   ],
   "source": [
    "# Step 5: Target Variable Visualization and Outlier Removal\n",
    "# Visualize the distribution of the target variable\n",
    "# obviously change this for your target variable!\n",
    "# experiment with the number of bins\n",
    "plt.hist(df['price'], bins=50)\n",
    "plt.xlabel('Price')\n",
    "plt.ylabel('Frequency')\n",
    "plt.title('Distribution of House Prices')\n",
    "plt.show()"
   ]
  },
  {
   "cell_type": "code",
   "execution_count": 8,
   "id": "2099f04d-ceb9-49d6-908e-2fbcba020a3a",
   "metadata": {},
   "outputs": [],
   "source": [
    "# Outlier Removal Technique --- there are many... but his one is my favorite\n",
    "# OPTIONAL --- you don't have to remove the outliers... but you can\n",
    "from scipy import stats\n",
    "\n",
    "# Calculate Z-scores for 'price' column\n",
    "df['price_z'] = np.abs(stats.zscore(df['price']))\n",
    "\n",
    "# Filter out rows where the Z-score is greater than 3\n",
    "df = df[df['price_z'] <= 3]\n",
    "\n",
    "# Drop the 'price_z' column after filtering\n",
    "df = df.drop(columns=['price_z'])"
   ]
  },
  {
   "cell_type": "code",
   "execution_count": 9,
   "id": "1a5353a7-ab54-4293-aef8-75fce9097391",
   "metadata": {},
   "outputs": [],
   "source": [
    "# Step 6: Data Preparation for Machine Learning\n",
    "\n",
    "# Initialize the column transformer\n",
    "transformer = make_column_transformer(\n",
    "    (MinMaxScaler(), ['sqft_living', 'sqft_lot', 'sqft_above', 'sqft_basement']),\n",
    "    remainder='passthrough'\n",
    ")\n",
    "\n",
    "# Separate features from the target variable\n",
    "X = df.drop(columns=['price'])\n",
    "y = df['price']"
   ]
  },
  {
   "cell_type": "code",
   "execution_count": 10,
   "id": "aec86efe-3643-4aca-b77b-aa540e345e57",
   "metadata": {},
   "outputs": [
    {
     "ename": "IndentationError",
     "evalue": "unexpected indent (3164937738.py, line 6)",
     "output_type": "error",
     "traceback": [
      "\u001b[1;36m  Cell \u001b[1;32mIn[10], line 6\u001b[1;36m\u001b[0m\n\u001b[1;33m    (MinMaxScaler(),\u001b[0m\n\u001b[1;37m    ^\u001b[0m\n\u001b[1;31mIndentationError\u001b[0m\u001b[1;31m:\u001b[0m unexpected indent\n"
     ]
    }
   ],
   "source": [
    "# from sklearn.compose import make_column_transformer\n",
    "# from sklearn.preprocessing import MinMaxScaler, OneHotEncoder\n",
    "\n",
    "\n",
    "# transformer = make_column_transformer(\n",
    "    (MinMaxScaler(), \n",
    "        ['sqft_living', 'sqft_lot','sqft_above', \n",
    "         'sqft_basement', 'house_age']),\n",
    "    (OneHotEncoder(handle_unknown='ignore'), \n",
    "        ['bedrooms', 'bathrooms', 'floors', \n",
    "         'view', 'condition'])\n",
    ")"
   ]
  },
  {
   "cell_type": "code",
   "execution_count": 11,
   "id": "83e3d6f6-fc6e-4b99-8498-b5dcc25fec1c",
   "metadata": {},
   "outputs": [],
   "source": [
    "# Step 7: Train-Test Split\n",
    "\n",
    "from sklearn.compose import make_column_transformer\n",
    "from sklearn.preprocessing import MinMaxScaler\n",
    "from sklearn.model_selection import train_test_split\n",
    "\n",
    "# Split data into features and target\n",
    "# Remember to update this for your target... mine is called price\n",
    "X = df.drop(columns=['price'])\n",
    "y = df['price']\n",
    "\n",
    "# Split into training and testing sets\n",
    "X_train, X_test, y_train, y_test = train_test_split(X, y, test_size=0.2, random_state=42)\n",
    "\n",
    "# Initialize the column transformer\n",
    "transformer = make_column_transformer(\n",
    "    (MinMaxScaler(), ['sqft_living', 'sqft_lot', 'sqft_above', 'sqft_basement']),\n",
    "    remainder='passthrough'\n",
    ")\n",
    "\n",
    "# Fit and transform the training data, and transform the test data\n",
    "X_train = transformer.fit_transform(X_train)\n",
    "X_test = transformer.transform(X_test)"
   ]
  },
  {
   "cell_type": "code",
   "execution_count": 12,
   "id": "12adacca-0240-49a0-bc49-1ed260e2ede7",
   "metadata": {},
   "outputs": [
    {
     "name": "stderr",
     "output_type": "stream",
     "text": [
      "C:\\Users\\sudwa\\anaconda3\\Lib\\site-packages\\keras\\src\\layers\\core\\dense.py:87: UserWarning: Do not pass an `input_shape`/`input_dim` argument to a layer. When using Sequential models, prefer using an `Input(shape)` object as the first layer in the model instead.\n",
      "  super().__init__(activity_regularizer=activity_regularizer, **kwargs)\n"
     ]
    }
   ],
   "source": [
    "# Step 8: Build the Neural Network Model\n",
    "# Define the neural network model\n",
    "model = Sequential([\n",
    "    Dense(128, activation='relu', input_shape=(X_train.shape[1],)),\n",
    "    Dense(64, activation='relu'),\n",
    "    Dense(1)  # Output layer for regression\n",
    "])\n",
    "\n",
    "# Compile the model\n",
    "model.compile(optimizer='adam', loss='mean_squared_error', metrics=['mae'])"
   ]
  },
  {
   "cell_type": "code",
   "execution_count": 13,
   "id": "4a65a0b7-a388-4a20-97c5-6a876f720c71",
   "metadata": {},
   "outputs": [
    {
     "name": "stdout",
     "output_type": "stream",
     "text": [
      "Epoch 1/100\n",
      "\u001b[1m20/20\u001b[0m \u001b[32m━━━━━━━━━━━━━━━━━━━━\u001b[0m\u001b[37m\u001b[0m \u001b[1m5s\u001b[0m 46ms/step - loss: 297133244416.0000 - mae: 486886.9688 - val_loss: 307320487936.0000 - val_mae: 495146.0312\n",
      "Epoch 2/100\n",
      "\u001b[1m20/20\u001b[0m \u001b[32m━━━━━━━━━━━━━━━━━━━━\u001b[0m\u001b[37m\u001b[0m \u001b[1m0s\u001b[0m 13ms/step - loss: 313213911040.0000 - mae: 496757.2500 - val_loss: 305800314880.0000 - val_mae: 493808.5938\n",
      "Epoch 3/100\n",
      "\u001b[1m20/20\u001b[0m \u001b[32m━━━━━━━━━━━━━━━━━━━━\u001b[0m\u001b[37m\u001b[0m \u001b[1m0s\u001b[0m 14ms/step - loss: 265700573184.0000 - mae: 463038.5000 - val_loss: 303101313024.0000 - val_mae: 491424.0625\n",
      "Epoch 4/100\n",
      "\u001b[1m20/20\u001b[0m \u001b[32m━━━━━━━━━━━━━━━━━━━━\u001b[0m\u001b[37m\u001b[0m \u001b[1m0s\u001b[0m 12ms/step - loss: 302391427072.0000 - mae: 490738.9688 - val_loss: 298525491200.0000 - val_mae: 487352.0625\n",
      "Epoch 5/100\n",
      "\u001b[1m20/20\u001b[0m \u001b[32m━━━━━━━━━━━━━━━━━━━━\u001b[0m\u001b[37m\u001b[0m \u001b[1m1s\u001b[0m 26ms/step - loss: 281743196160.0000 - mae: 473669.8438 - val_loss: 291475980288.0000 - val_mae: 481004.7500\n",
      "Epoch 6/100\n",
      "\u001b[1m20/20\u001b[0m \u001b[32m━━━━━━━━━━━━━━━━━━━━\u001b[0m\u001b[37m\u001b[0m \u001b[1m0s\u001b[0m 16ms/step - loss: 280991203328.0000 - mae: 473171.2812 - val_loss: 281239912448.0000 - val_mae: 471621.2812\n",
      "Epoch 7/100\n",
      "\u001b[1m20/20\u001b[0m \u001b[32m━━━━━━━━━━━━━━━━━━━━\u001b[0m\u001b[37m\u001b[0m \u001b[1m0s\u001b[0m 9ms/step - loss: 280101847040.0000 - mae: 466509.5938 - val_loss: 267329142784.0000 - val_mae: 458530.1250\n",
      "Epoch 8/100\n",
      "\u001b[1m20/20\u001b[0m \u001b[32m━━━━━━━━━━━━━━━━━━━━\u001b[0m\u001b[37m\u001b[0m \u001b[1m0s\u001b[0m 20ms/step - loss: 253084696576.0000 - mae: 444126.5625 - val_loss: 249152667648.0000 - val_mae: 440777.3750\n",
      "Epoch 9/100\n",
      "\u001b[1m20/20\u001b[0m \u001b[32m━━━━━━━━━━━━━━━━━━━━\u001b[0m\u001b[37m\u001b[0m \u001b[1m0s\u001b[0m 10ms/step - loss: 227501064192.0000 - mae: 416425.2188 - val_loss: 226551513088.0000 - val_mae: 417533.9375\n",
      "Epoch 10/100\n",
      "\u001b[1m20/20\u001b[0m \u001b[32m━━━━━━━━━━━━━━━━━━━━\u001b[0m\u001b[37m\u001b[0m \u001b[1m0s\u001b[0m 20ms/step - loss: 231743406080.0000 - mae: 417305.4688 - val_loss: 200324333568.0000 - val_mae: 388612.5938\n",
      "Epoch 11/100\n",
      "\u001b[1m20/20\u001b[0m \u001b[32m━━━━━━━━━━━━━━━━━━━━\u001b[0m\u001b[37m\u001b[0m \u001b[1m0s\u001b[0m 11ms/step - loss: 184434868224.0000 - mae: 371805.6250 - val_loss: 172059688960.0000 - val_mae: 354461.0938\n",
      "Epoch 12/100\n",
      "\u001b[1m20/20\u001b[0m \u001b[32m━━━━━━━━━━━━━━━━━━━━\u001b[0m\u001b[37m\u001b[0m \u001b[1m0s\u001b[0m 16ms/step - loss: 151656529920.0000 - mae: 331640.1562 - val_loss: 143483191296.0000 - val_mae: 316656.5625\n",
      "Epoch 13/100\n",
      "\u001b[1m20/20\u001b[0m \u001b[32m━━━━━━━━━━━━━━━━━━━━\u001b[0m\u001b[37m\u001b[0m \u001b[1m1s\u001b[0m 31ms/step - loss: 127337529344.0000 - mae: 297654.5625 - val_loss: 116170604544.0000 - val_mae: 277263.7188\n",
      "Epoch 14/100\n",
      "\u001b[1m20/20\u001b[0m \u001b[32m━━━━━━━━━━━━━━━━━━━━\u001b[0m\u001b[37m\u001b[0m \u001b[1m0s\u001b[0m 12ms/step - loss: 100773838848.0000 - mae: 252946.5781 - val_loss: 92424019968.0000 - val_mae: 237897.8281\n",
      "Epoch 15/100\n",
      "\u001b[1m20/20\u001b[0m \u001b[32m━━━━━━━━━━━━━━━━━━━━\u001b[0m\u001b[37m\u001b[0m \u001b[1m0s\u001b[0m 10ms/step - loss: 75623636992.0000 - mae: 217482.0312 - val_loss: 73716047872.0000 - val_mae: 204964.2031\n",
      "Epoch 16/100\n",
      "\u001b[1m20/20\u001b[0m \u001b[32m━━━━━━━━━━━━━━━━━━━━\u001b[0m\u001b[37m\u001b[0m \u001b[1m0s\u001b[0m 17ms/step - loss: 70460841984.0000 - mae: 203576.9844 - val_loss: 61057929216.0000 - val_mae: 184556.4375\n",
      "Epoch 17/100\n",
      "\u001b[1m20/20\u001b[0m \u001b[32m━━━━━━━━━━━━━━━━━━━━\u001b[0m\u001b[37m\u001b[0m \u001b[1m1s\u001b[0m 17ms/step - loss: 48465375232.0000 - mae: 166263.7500 - val_loss: 54065999872.0000 - val_mae: 173022.2656\n",
      "Epoch 18/100\n",
      "\u001b[1m20/20\u001b[0m \u001b[32m━━━━━━━━━━━━━━━━━━━━\u001b[0m\u001b[37m\u001b[0m \u001b[1m0s\u001b[0m 19ms/step - loss: 43100004352.0000 - mae: 159727.3125 - val_loss: 50661048320.0000 - val_mae: 167390.2188\n",
      "Epoch 19/100\n",
      "\u001b[1m20/20\u001b[0m \u001b[32m━━━━━━━━━━━━━━━━━━━━\u001b[0m\u001b[37m\u001b[0m \u001b[1m1s\u001b[0m 14ms/step - loss: 40293249024.0000 - mae: 151149.7812 - val_loss: 49569538048.0000 - val_mae: 167163.4219\n",
      "Epoch 20/100\n",
      "\u001b[1m20/20\u001b[0m \u001b[32m━━━━━━━━━━━━━━━━━━━━\u001b[0m\u001b[37m\u001b[0m \u001b[1m0s\u001b[0m 9ms/step - loss: 35078152192.0000 - mae: 143566.2812 - val_loss: 49502441472.0000 - val_mae: 167901.2812\n",
      "Epoch 21/100\n",
      "\u001b[1m20/20\u001b[0m \u001b[32m━━━━━━━━━━━━━━━━━━━━\u001b[0m\u001b[37m\u001b[0m \u001b[1m0s\u001b[0m 11ms/step - loss: 33879701504.0000 - mae: 139972.7188 - val_loss: 49747230720.0000 - val_mae: 168931.9062\n",
      "Epoch 22/100\n",
      "\u001b[1m20/20\u001b[0m \u001b[32m━━━━━━━━━━━━━━━━━━━━\u001b[0m\u001b[37m\u001b[0m \u001b[1m0s\u001b[0m 10ms/step - loss: 34734428160.0000 - mae: 145594.6250 - val_loss: 49805287424.0000 - val_mae: 169086.2656\n",
      "Epoch 23/100\n",
      "\u001b[1m20/20\u001b[0m \u001b[32m━━━━━━━━━━━━━━━━━━━━\u001b[0m\u001b[37m\u001b[0m \u001b[1m0s\u001b[0m 9ms/step - loss: 36628103168.0000 - mae: 144831.7344 - val_loss: 49969848320.0000 - val_mae: 169481.3594\n",
      "Epoch 24/100\n",
      "\u001b[1m20/20\u001b[0m \u001b[32m━━━━━━━━━━━━━━━━━━━━\u001b[0m\u001b[37m\u001b[0m \u001b[1m1s\u001b[0m 18ms/step - loss: 36178497536.0000 - mae: 144961.3438 - val_loss: 50188607488.0000 - val_mae: 169952.3594\n",
      "Epoch 25/100\n",
      "\u001b[1m20/20\u001b[0m \u001b[32m━━━━━━━━━━━━━━━━━━━━\u001b[0m\u001b[37m\u001b[0m \u001b[1m0s\u001b[0m 9ms/step - loss: 38634016768.0000 - mae: 150877.0312 - val_loss: 50075471872.0000 - val_mae: 169710.5625\n",
      "Epoch 26/100\n",
      "\u001b[1m20/20\u001b[0m \u001b[32m━━━━━━━━━━━━━━━━━━━━\u001b[0m\u001b[37m\u001b[0m \u001b[1m0s\u001b[0m 12ms/step - loss: 36944216064.0000 - mae: 146183.2969 - val_loss: 50092548096.0000 - val_mae: 169745.8594\n",
      "Epoch 27/100\n",
      "\u001b[1m20/20\u001b[0m \u001b[32m━━━━━━━━━━━━━━━━━━━━\u001b[0m\u001b[37m\u001b[0m \u001b[1m0s\u001b[0m 13ms/step - loss: 37148745728.0000 - mae: 146622.7812 - val_loss: 50094813184.0000 - val_mae: 169750.9062\n",
      "Epoch 28/100\n",
      "\u001b[1m20/20\u001b[0m \u001b[32m━━━━━━━━━━━━━━━━━━━━\u001b[0m\u001b[37m\u001b[0m \u001b[1m0s\u001b[0m 11ms/step - loss: 36035465216.0000 - mae: 145703.2344 - val_loss: 50132201472.0000 - val_mae: 169829.6406\n",
      "Epoch 29/100\n",
      "\u001b[1m20/20\u001b[0m \u001b[32m━━━━━━━━━━━━━━━━━━━━\u001b[0m\u001b[37m\u001b[0m \u001b[1m1s\u001b[0m 29ms/step - loss: 35479797760.0000 - mae: 142936.7031 - val_loss: 50209734656.0000 - val_mae: 170000.8281\n",
      "Epoch 30/100\n",
      "\u001b[1m20/20\u001b[0m \u001b[32m━━━━━━━━━━━━━━━━━━━━\u001b[0m\u001b[37m\u001b[0m \u001b[1m0s\u001b[0m 13ms/step - loss: 34373681152.0000 - mae: 140656.5312 - val_loss: 50085040128.0000 - val_mae: 169732.3594\n",
      "Epoch 31/100\n",
      "\u001b[1m20/20\u001b[0m \u001b[32m━━━━━━━━━━━━━━━━━━━━\u001b[0m\u001b[37m\u001b[0m \u001b[1m0s\u001b[0m 10ms/step - loss: 37055127552.0000 - mae: 148631.6406 - val_loss: 49981657088.0000 - val_mae: 169512.9688\n",
      "Epoch 32/100\n",
      "\u001b[1m20/20\u001b[0m \u001b[32m━━━━━━━━━━━━━━━━━━━━\u001b[0m\u001b[37m\u001b[0m \u001b[1m0s\u001b[0m 9ms/step - loss: 38406983680.0000 - mae: 148410.2188 - val_loss: 50114134016.0000 - val_mae: 169791.6562\n",
      "Epoch 33/100\n",
      "\u001b[1m20/20\u001b[0m \u001b[32m━━━━━━━━━━━━━━━━━━━━\u001b[0m\u001b[37m\u001b[0m \u001b[1m0s\u001b[0m 10ms/step - loss: 36107603968.0000 - mae: 147043.5625 - val_loss: 50195349504.0000 - val_mae: 169972.3594\n",
      "Epoch 34/100\n",
      "\u001b[1m20/20\u001b[0m \u001b[32m━━━━━━━━━━━━━━━━━━━━\u001b[0m\u001b[37m\u001b[0m \u001b[1m0s\u001b[0m 9ms/step - loss: 36016607232.0000 - mae: 145323.2344 - val_loss: 50019180544.0000 - val_mae: 169596.8281\n",
      "Epoch 35/100\n",
      "\u001b[1m20/20\u001b[0m \u001b[32m━━━━━━━━━━━━━━━━━━━━\u001b[0m\u001b[37m\u001b[0m \u001b[1m0s\u001b[0m 14ms/step - loss: 37351555072.0000 - mae: 146199.3438 - val_loss: 50195562496.0000 - val_mae: 169974.0156\n",
      "Epoch 36/100\n",
      "\u001b[1m20/20\u001b[0m \u001b[32m━━━━━━━━━━━━━━━━━━━━\u001b[0m\u001b[37m\u001b[0m \u001b[1m0s\u001b[0m 9ms/step - loss: 35508834304.0000 - mae: 144269.0000 - val_loss: 50227343360.0000 - val_mae: 170042.2812\n",
      "Epoch 37/100\n",
      "\u001b[1m20/20\u001b[0m \u001b[32m━━━━━━━━━━━━━━━━━━━━\u001b[0m\u001b[37m\u001b[0m \u001b[1m0s\u001b[0m 11ms/step - loss: 37057331200.0000 - mae: 143734.0469 - val_loss: 50226696192.0000 - val_mae: 170041.5000\n",
      "Epoch 38/100\n",
      "\u001b[1m20/20\u001b[0m \u001b[32m━━━━━━━━━━━━━━━━━━━━\u001b[0m\u001b[37m\u001b[0m \u001b[1m0s\u001b[0m 11ms/step - loss: 37075259392.0000 - mae: 146597.6406 - val_loss: 50057400320.0000 - val_mae: 169679.5156\n",
      "Epoch 39/100\n",
      "\u001b[1m20/20\u001b[0m \u001b[32m━━━━━━━━━━━━━━━━━━━━\u001b[0m\u001b[37m\u001b[0m \u001b[1m0s\u001b[0m 9ms/step - loss: 36712083456.0000 - mae: 143360.1406 - val_loss: 50114596864.0000 - val_mae: 169797.7656\n",
      "Epoch 40/100\n",
      "\u001b[1m20/20\u001b[0m \u001b[32m━━━━━━━━━━━━━━━━━━━━\u001b[0m\u001b[37m\u001b[0m \u001b[1m0s\u001b[0m 9ms/step - loss: 36887867392.0000 - mae: 144426.0312 - val_loss: 50012659712.0000 - val_mae: 169586.4375\n",
      "Epoch 41/100\n",
      "\u001b[1m20/20\u001b[0m \u001b[32m━━━━━━━━━━━━━━━━━━━━\u001b[0m\u001b[37m\u001b[0m \u001b[1m1s\u001b[0m 9ms/step - loss: 37840936960.0000 - mae: 147622.0625 - val_loss: 50149220352.0000 - val_mae: 169877.0156\n",
      "Epoch 42/100\n",
      "\u001b[1m20/20\u001b[0m \u001b[32m━━━━━━━━━━━━━━━━━━━━\u001b[0m\u001b[37m\u001b[0m \u001b[1m0s\u001b[0m 9ms/step - loss: 34518388736.0000 - mae: 144686.4844 - val_loss: 50006495232.0000 - val_mae: 169574.4844\n",
      "Epoch 43/100\n",
      "\u001b[1m20/20\u001b[0m \u001b[32m━━━━━━━━━━━━━━━━━━━━\u001b[0m\u001b[37m\u001b[0m \u001b[1m0s\u001b[0m 10ms/step - loss: 36816027648.0000 - mae: 143582.2969 - val_loss: 50073104384.0000 - val_mae: 169714.2969\n",
      "Epoch 44/100\n",
      "\u001b[1m20/20\u001b[0m \u001b[32m━━━━━━━━━━━━━━━━━━━━\u001b[0m\u001b[37m\u001b[0m \u001b[1m0s\u001b[0m 11ms/step - loss: 38113742848.0000 - mae: 147276.4844 - val_loss: 50137141248.0000 - val_mae: 169852.5156\n",
      "Epoch 45/100\n",
      "\u001b[1m20/20\u001b[0m \u001b[32m━━━━━━━━━━━━━━━━━━━━\u001b[0m\u001b[37m\u001b[0m \u001b[1m0s\u001b[0m 13ms/step - loss: 37177155584.0000 - mae: 145322.6719 - val_loss: 50171985920.0000 - val_mae: 169929.8750\n",
      "Epoch 46/100\n",
      "\u001b[1m20/20\u001b[0m \u001b[32m━━━━━━━━━━━━━━━━━━━━\u001b[0m\u001b[37m\u001b[0m \u001b[1m0s\u001b[0m 8ms/step - loss: 33354895360.0000 - mae: 138671.8125 - val_loss: 50223915008.0000 - val_mae: 170041.2344\n",
      "Epoch 47/100\n",
      "\u001b[1m20/20\u001b[0m \u001b[32m━━━━━━━━━━━━━━━━━━━━\u001b[0m\u001b[37m\u001b[0m \u001b[1m0s\u001b[0m 10ms/step - loss: 34966634496.0000 - mae: 140308.8594 - val_loss: 50140135424.0000 - val_mae: 169861.5156\n",
      "Epoch 48/100\n",
      "\u001b[1m20/20\u001b[0m \u001b[32m━━━━━━━━━━━━━━━━━━━━\u001b[0m\u001b[37m\u001b[0m \u001b[1m0s\u001b[0m 10ms/step - loss: 35811348480.0000 - mae: 142035.4062 - val_loss: 50159116288.0000 - val_mae: 169904.0312\n",
      "Epoch 49/100\n",
      "\u001b[1m20/20\u001b[0m \u001b[32m━━━━━━━━━━━━━━━━━━━━\u001b[0m\u001b[37m\u001b[0m \u001b[1m0s\u001b[0m 12ms/step - loss: 36008857600.0000 - mae: 146577.9688 - val_loss: 50040119296.0000 - val_mae: 169649.8594\n",
      "Epoch 50/100\n",
      "\u001b[1m20/20\u001b[0m \u001b[32m━━━━━━━━━━━━━━━━━━━━\u001b[0m\u001b[37m\u001b[0m \u001b[1m0s\u001b[0m 8ms/step - loss: 32012470272.0000 - mae: 137085.4844 - val_loss: 50087059456.0000 - val_mae: 169745.9688\n",
      "Epoch 51/100\n",
      "\u001b[1m20/20\u001b[0m \u001b[32m━━━━━━━━━━━━━━━━━━━━\u001b[0m\u001b[37m\u001b[0m \u001b[1m0s\u001b[0m 12ms/step - loss: 36347072512.0000 - mae: 146466.5781 - val_loss: 50051870720.0000 - val_mae: 169675.3281\n",
      "Epoch 52/100\n",
      "\u001b[1m20/20\u001b[0m \u001b[32m━━━━━━━━━━━━━━━━━━━━\u001b[0m\u001b[37m\u001b[0m \u001b[1m0s\u001b[0m 8ms/step - loss: 36586287104.0000 - mae: 143156.5312 - val_loss: 50051964928.0000 - val_mae: 169676.1094\n",
      "Epoch 53/100\n",
      "\u001b[1m20/20\u001b[0m \u001b[32m━━━━━━━━━━━━━━━━━━━━\u001b[0m\u001b[37m\u001b[0m \u001b[1m0s\u001b[0m 13ms/step - loss: 36220305408.0000 - mae: 146838.5781 - val_loss: 50145255424.0000 - val_mae: 169877.5781\n",
      "Epoch 54/100\n",
      "\u001b[1m20/20\u001b[0m \u001b[32m━━━━━━━━━━━━━━━━━━━━\u001b[0m\u001b[37m\u001b[0m \u001b[1m0s\u001b[0m 8ms/step - loss: 35905191936.0000 - mae: 146114.1250 - val_loss: 50117668864.0000 - val_mae: 169817.2500\n",
      "Epoch 55/100\n",
      "\u001b[1m20/20\u001b[0m \u001b[32m━━━━━━━━━━━━━━━━━━━━\u001b[0m\u001b[37m\u001b[0m \u001b[1m0s\u001b[0m 7ms/step - loss: 39043563520.0000 - mae: 154118.1250 - val_loss: 50091868160.0000 - val_mae: 169759.7656\n",
      "Epoch 56/100\n",
      "\u001b[1m20/20\u001b[0m \u001b[32m━━━━━━━━━━━━━━━━━━━━\u001b[0m\u001b[37m\u001b[0m \u001b[1m0s\u001b[0m 10ms/step - loss: 33664229376.0000 - mae: 139985.4375 - val_loss: 50099302400.0000 - val_mae: 169777.5625\n",
      "Epoch 57/100\n",
      "\u001b[1m20/20\u001b[0m \u001b[32m━━━━━━━━━━━━━━━━━━━━\u001b[0m\u001b[37m\u001b[0m \u001b[1m0s\u001b[0m 9ms/step - loss: 35204337664.0000 - mae: 144250.1094 - val_loss: 49959047168.0000 - val_mae: 169481.7656\n",
      "Epoch 58/100\n",
      "\u001b[1m20/20\u001b[0m \u001b[32m━━━━━━━━━━━━━━━━━━━━\u001b[0m\u001b[37m\u001b[0m \u001b[1m0s\u001b[0m 16ms/step - loss: 37818826752.0000 - mae: 147524.6094 - val_loss: 49977135104.0000 - val_mae: 169522.2031\n",
      "Epoch 59/100\n",
      "\u001b[1m20/20\u001b[0m \u001b[32m━━━━━━━━━━━━━━━━━━━━\u001b[0m\u001b[37m\u001b[0m \u001b[1m0s\u001b[0m 13ms/step - loss: 37629390848.0000 - mae: 145011.4375 - val_loss: 50289418240.0000 - val_mae: 170183.1875\n",
      "Epoch 60/100\n",
      "\u001b[1m20/20\u001b[0m \u001b[32m━━━━━━━━━━━━━━━━━━━━\u001b[0m\u001b[37m\u001b[0m \u001b[1m0s\u001b[0m 13ms/step - loss: 32964972544.0000 - mae: 138405.6094 - val_loss: 49960095744.0000 - val_mae: 169486.5000\n",
      "Epoch 61/100\n",
      "\u001b[1m20/20\u001b[0m \u001b[32m━━━━━━━━━━━━━━━━━━━━\u001b[0m\u001b[37m\u001b[0m \u001b[1m0s\u001b[0m 11ms/step - loss: 34325547008.0000 - mae: 141363.6562 - val_loss: 50108280832.0000 - val_mae: 169802.4062\n",
      "Epoch 62/100\n",
      "\u001b[1m20/20\u001b[0m \u001b[32m━━━━━━━━━━━━━━━━━━━━\u001b[0m\u001b[37m\u001b[0m \u001b[1m1s\u001b[0m 9ms/step - loss: 32450783232.0000 - mae: 139180.8438 - val_loss: 50064412672.0000 - val_mae: 169707.1094\n",
      "Epoch 63/100\n",
      "\u001b[1m20/20\u001b[0m \u001b[32m━━━━━━━━━━━━━━━━━━━━\u001b[0m\u001b[37m\u001b[0m \u001b[1m0s\u001b[0m 7ms/step - loss: 35913523200.0000 - mae: 148560.2500 - val_loss: 50215231488.0000 - val_mae: 170034.6562\n",
      "Epoch 64/100\n",
      "\u001b[1m20/20\u001b[0m \u001b[32m━━━━━━━━━━━━━━━━━━━━\u001b[0m\u001b[37m\u001b[0m \u001b[1m0s\u001b[0m 9ms/step - loss: 37967331328.0000 - mae: 148443.8594 - val_loss: 50067521536.0000 - val_mae: 169714.4844\n",
      "Epoch 65/100\n",
      "\u001b[1m20/20\u001b[0m \u001b[32m━━━━━━━━━━━━━━━━━━━━\u001b[0m\u001b[37m\u001b[0m \u001b[1m0s\u001b[0m 14ms/step - loss: 35559673856.0000 - mae: 145050.8594 - val_loss: 50212818944.0000 - val_mae: 170031.0312\n",
      "Epoch 66/100\n",
      "\u001b[1m20/20\u001b[0m \u001b[32m━━━━━━━━━━━━━━━━━━━━\u001b[0m\u001b[37m\u001b[0m \u001b[1m1s\u001b[0m 13ms/step - loss: 34794983424.0000 - mae: 144311.1406 - val_loss: 49902161920.0000 - val_mae: 169360.9062\n",
      "Epoch 67/100\n",
      "\u001b[1m20/20\u001b[0m \u001b[32m━━━━━━━━━━━━━━━━━━━━\u001b[0m\u001b[37m\u001b[0m \u001b[1m0s\u001b[0m 8ms/step - loss: 34166083584.0000 - mae: 144029.6094 - val_loss: 50228813824.0000 - val_mae: 170065.4688\n",
      "Epoch 68/100\n",
      "\u001b[1m20/20\u001b[0m \u001b[32m━━━━━━━━━━━━━━━━━━━━\u001b[0m\u001b[37m\u001b[0m \u001b[1m0s\u001b[0m 8ms/step - loss: 36148236288.0000 - mae: 142914.8125 - val_loss: 50074988544.0000 - val_mae: 169733.7656\n",
      "Epoch 69/100\n",
      "\u001b[1m20/20\u001b[0m \u001b[32m━━━━━━━━━━━━━━━━━━━━\u001b[0m\u001b[37m\u001b[0m \u001b[1m0s\u001b[0m 9ms/step - loss: 38173093888.0000 - mae: 145649.1562 - val_loss: 50060574720.0000 - val_mae: 169703.5000\n",
      "Epoch 70/100\n",
      "\u001b[1m20/20\u001b[0m \u001b[32m━━━━━━━━━━━━━━━━━━━━\u001b[0m\u001b[37m\u001b[0m \u001b[1m1s\u001b[0m 10ms/step - loss: 33824843776.0000 - mae: 140846.8281 - val_loss: 50002350080.0000 - val_mae: 169584.9062\n",
      "Epoch 71/100\n",
      "\u001b[1m20/20\u001b[0m \u001b[32m━━━━━━━━━━━━━━━━━━━━\u001b[0m\u001b[37m\u001b[0m \u001b[1m0s\u001b[0m 14ms/step - loss: 34988912640.0000 - mae: 143981.4688 - val_loss: 49981685760.0000 - val_mae: 169542.0000\n",
      "Epoch 72/100\n",
      "\u001b[1m20/20\u001b[0m \u001b[32m━━━━━━━━━━━━━━━━━━━━\u001b[0m\u001b[37m\u001b[0m \u001b[1m0s\u001b[0m 8ms/step - loss: 36715536384.0000 - mae: 147514.7344 - val_loss: 50140725248.0000 - val_mae: 169883.6250\n",
      "Epoch 73/100\n",
      "\u001b[1m20/20\u001b[0m \u001b[32m━━━━━━━━━━━━━━━━━━━━\u001b[0m\u001b[37m\u001b[0m \u001b[1m0s\u001b[0m 9ms/step - loss: 34265589760.0000 - mae: 144923.4062 - val_loss: 50047336448.0000 - val_mae: 169679.2969\n",
      "Epoch 74/100\n",
      "\u001b[1m20/20\u001b[0m \u001b[32m━━━━━━━━━━━━━━━━━━━━\u001b[0m\u001b[37m\u001b[0m \u001b[1m0s\u001b[0m 9ms/step - loss: 35751485440.0000 - mae: 143894.6875 - val_loss: 50154692608.0000 - val_mae: 169915.4531\n",
      "Epoch 75/100\n",
      "\u001b[1m20/20\u001b[0m \u001b[32m━━━━━━━━━━━━━━━━━━━━\u001b[0m\u001b[37m\u001b[0m \u001b[1m0s\u001b[0m 9ms/step - loss: 37161598976.0000 - mae: 147873.8281 - val_loss: 50156822528.0000 - val_mae: 169920.8125\n",
      "Epoch 76/100\n",
      "\u001b[1m20/20\u001b[0m \u001b[32m━━━━━━━━━━━━━━━━━━━━\u001b[0m\u001b[37m\u001b[0m \u001b[1m0s\u001b[0m 10ms/step - loss: 39461244928.0000 - mae: 150107.3281 - val_loss: 49961758720.0000 - val_mae: 169503.2188\n",
      "Epoch 77/100\n",
      "\u001b[1m20/20\u001b[0m \u001b[32m━━━━━━━━━━━━━━━━━━━━\u001b[0m\u001b[37m\u001b[0m \u001b[1m0s\u001b[0m 10ms/step - loss: 37940391936.0000 - mae: 147355.4531 - val_loss: 50176020480.0000 - val_mae: 169963.1562\n",
      "Epoch 78/100\n",
      "\u001b[1m20/20\u001b[0m \u001b[32m━━━━━━━━━━━━━━━━━━━━\u001b[0m\u001b[37m\u001b[0m \u001b[1m0s\u001b[0m 8ms/step - loss: 34918150144.0000 - mae: 144363.1875 - val_loss: 50059677696.0000 - val_mae: 169709.0312\n",
      "Epoch 79/100\n",
      "\u001b[1m20/20\u001b[0m \u001b[32m━━━━━━━━━━━━━━━━━━━━\u001b[0m\u001b[37m\u001b[0m \u001b[1m0s\u001b[0m 9ms/step - loss: 33002604544.0000 - mae: 139077.7969 - val_loss: 50038964224.0000 - val_mae: 169666.1719\n",
      "Epoch 80/100\n",
      "\u001b[1m20/20\u001b[0m \u001b[32m━━━━━━━━━━━━━━━━━━━━\u001b[0m\u001b[37m\u001b[0m \u001b[1m0s\u001b[0m 10ms/step - loss: 37825228800.0000 - mae: 146390.9062 - val_loss: 49940226048.0000 - val_mae: 169459.8281\n",
      "Epoch 81/100\n",
      "\u001b[1m20/20\u001b[0m \u001b[32m━━━━━━━━━━━━━━━━━━━━\u001b[0m\u001b[37m\u001b[0m \u001b[1m0s\u001b[0m 19ms/step - loss: 38219878400.0000 - mae: 147969.5625 - val_loss: 50324811776.0000 - val_mae: 170279.2344\n",
      "Epoch 82/100\n",
      "\u001b[1m20/20\u001b[0m \u001b[32m━━━━━━━━━━━━━━━━━━━━\u001b[0m\u001b[37m\u001b[0m \u001b[1m0s\u001b[0m 8ms/step - loss: 35536584704.0000 - mae: 143159.6250 - val_loss: 49974599680.0000 - val_mae: 169535.4219\n",
      "Epoch 83/100\n",
      "\u001b[1m20/20\u001b[0m \u001b[32m━━━━━━━━━━━━━━━━━━━━\u001b[0m\u001b[37m\u001b[0m \u001b[1m1s\u001b[0m 16ms/step - loss: 35390005248.0000 - mae: 145342.1719 - val_loss: 49989660672.0000 - val_mae: 169567.8906\n",
      "Epoch 84/100\n",
      "\u001b[1m20/20\u001b[0m \u001b[32m━━━━━━━━━━━━━━━━━━━━\u001b[0m\u001b[37m\u001b[0m \u001b[1m1s\u001b[0m 13ms/step - loss: 35345371136.0000 - mae: 145122.2031 - val_loss: 49911738368.0000 - val_mae: 169400.4531\n",
      "Epoch 85/100\n",
      "\u001b[1m20/20\u001b[0m \u001b[32m━━━━━━━━━━━━━━━━━━━━\u001b[0m\u001b[37m\u001b[0m \u001b[1m0s\u001b[0m 10ms/step - loss: 36546428928.0000 - mae: 146823.2500 - val_loss: 50058670080.0000 - val_mae: 169714.2031\n",
      "Epoch 86/100\n",
      "\u001b[1m20/20\u001b[0m \u001b[32m━━━━━━━━━━━━━━━━━━━━\u001b[0m\u001b[37m\u001b[0m \u001b[1m0s\u001b[0m 16ms/step - loss: 36564770816.0000 - mae: 146989.2656 - val_loss: 49940381696.0000 - val_mae: 169465.5000\n",
      "Epoch 87/100\n",
      "\u001b[1m20/20\u001b[0m \u001b[32m━━━━━━━━━━━━━━━━━━━━\u001b[0m\u001b[37m\u001b[0m \u001b[1m1s\u001b[0m 10ms/step - loss: 37279883264.0000 - mae: 148801.1250 - val_loss: 50109517824.0000 - val_mae: 169829.2969\n",
      "Epoch 88/100\n",
      "\u001b[1m20/20\u001b[0m \u001b[32m━━━━━━━━━━━━━━━━━━━━\u001b[0m\u001b[37m\u001b[0m \u001b[1m0s\u001b[0m 15ms/step - loss: 39882481664.0000 - mae: 153042.7656 - val_loss: 49965629440.0000 - val_mae: 169521.2969\n",
      "Epoch 89/100\n",
      "\u001b[1m20/20\u001b[0m \u001b[32m━━━━━━━━━━━━━━━━━━━━\u001b[0m\u001b[37m\u001b[0m \u001b[1m1s\u001b[0m 13ms/step - loss: 36337770496.0000 - mae: 145625.3438 - val_loss: 50084888576.0000 - val_mae: 169777.1406\n",
      "Epoch 90/100\n",
      "\u001b[1m20/20\u001b[0m \u001b[32m━━━━━━━━━━━━━━━━━━━━\u001b[0m\u001b[37m\u001b[0m \u001b[1m0s\u001b[0m 15ms/step - loss: 32829655040.0000 - mae: 138139.0000 - val_loss: 50101878784.0000 - val_mae: 169815.5156\n",
      "Epoch 91/100\n",
      "\u001b[1m20/20\u001b[0m \u001b[32m━━━━━━━━━━━━━━━━━━━━\u001b[0m\u001b[37m\u001b[0m \u001b[1m0s\u001b[0m 18ms/step - loss: 34952617984.0000 - mae: 142752.0312 - val_loss: 50067546112.0000 - val_mae: 169740.5156\n",
      "Epoch 92/100\n",
      "\u001b[1m20/20\u001b[0m \u001b[32m━━━━━━━━━━━━━━━━━━━━\u001b[0m\u001b[37m\u001b[0m \u001b[1m1s\u001b[0m 9ms/step - loss: 33498998784.0000 - mae: 139350.1562 - val_loss: 50045128704.0000 - val_mae: 169690.9688\n",
      "Epoch 93/100\n",
      "\u001b[1m20/20\u001b[0m \u001b[32m━━━━━━━━━━━━━━━━━━━━\u001b[0m\u001b[37m\u001b[0m \u001b[1m0s\u001b[0m 7ms/step - loss: 35822608384.0000 - mae: 144076.4531 - val_loss: 49848025088.0000 - val_mae: 169263.6562\n",
      "Epoch 94/100\n",
      "\u001b[1m20/20\u001b[0m \u001b[32m━━━━━━━━━━━━━━━━━━━━\u001b[0m\u001b[37m\u001b[0m \u001b[1m0s\u001b[0m 14ms/step - loss: 32956307456.0000 - mae: 137739.7031 - val_loss: 49943699456.0000 - val_mae: 169479.5000\n",
      "Epoch 95/100\n",
      "\u001b[1m20/20\u001b[0m \u001b[32m━━━━━━━━━━━━━━━━━━━━\u001b[0m\u001b[37m\u001b[0m \u001b[1m0s\u001b[0m 13ms/step - loss: 36654755840.0000 - mae: 146464.4219 - val_loss: 50162196480.0000 - val_mae: 169948.8906\n",
      "Epoch 96/100\n",
      "\u001b[1m20/20\u001b[0m \u001b[32m━━━━━━━━━━━━━━━━━━━━\u001b[0m\u001b[37m\u001b[0m \u001b[1m0s\u001b[0m 11ms/step - loss: 38316097536.0000 - mae: 147575.7969 - val_loss: 50082004992.0000 - val_mae: 169777.7812\n",
      "Epoch 97/100\n",
      "\u001b[1m20/20\u001b[0m \u001b[32m━━━━━━━━━━━━━━━━━━━━\u001b[0m\u001b[37m\u001b[0m \u001b[1m1s\u001b[0m 17ms/step - loss: 41788100608.0000 - mae: 155324.4219 - val_loss: 50194079744.0000 - val_mae: 170016.3594\n",
      "Epoch 98/100\n",
      "\u001b[1m20/20\u001b[0m \u001b[32m━━━━━━━━━━━━━━━━━━━━\u001b[0m\u001b[37m\u001b[0m \u001b[1m0s\u001b[0m 10ms/step - loss: 36165083136.0000 - mae: 145186.5156 - val_loss: 49885155328.0000 - val_mae: 169354.7656\n",
      "Epoch 99/100\n",
      "\u001b[1m20/20\u001b[0m \u001b[32m━━━━━━━━━━━━━━━━━━━━\u001b[0m\u001b[37m\u001b[0m \u001b[1m0s\u001b[0m 12ms/step - loss: 35718348800.0000 - mae: 148136.2031 - val_loss: 49816891392.0000 - val_mae: 169196.7500\n",
      "Epoch 100/100\n",
      "\u001b[1m20/20\u001b[0m \u001b[32m━━━━━━━━━━━━━━━━━━━━\u001b[0m\u001b[37m\u001b[0m \u001b[1m0s\u001b[0m 10ms/step - loss: 31739662336.0000 - mae: 137880.4844 - val_loss: 50071040000.0000 - val_mae: 169757.6094\n"
     ]
    },
    {
     "data": {
      "text/plain": [
       "<keras.src.callbacks.history.History at 0x212a1a0a1e0>"
      ]
     },
     "execution_count": 13,
     "metadata": {},
     "output_type": "execute_result"
    }
   ],
   "source": [
    "# Step 9: Train the Model\n",
    "\n",
    "# Train the model\n",
    "model.fit(X_train, y_train, epochs=100, validation_split=0.2)"
   ]
  },
  {
   "cell_type": "code",
   "execution_count": 14,
   "id": "4aab6cf4-10d5-4ee3-ae7b-a642a5021700",
   "metadata": {},
   "outputs": [
    {
     "name": "stdout",
     "output_type": "stream",
     "text": [
      "\u001b[1m7/7\u001b[0m \u001b[32m━━━━━━━━━━━━━━━━━━━━\u001b[0m\u001b[37m\u001b[0m \u001b[1m0s\u001b[0m 20ms/step\n",
      "Test RMSE: 231445.1397704416\n"
     ]
    },
    {
     "data": {
      "text/html": [
       "<pre style=\"white-space:pre;overflow-x:auto;line-height:normal;font-family:Menlo,'DejaVu Sans Mono',consolas,'Courier New',monospace\"><span style=\"font-weight: bold\">Model: \"sequential\"</span>\n",
       "</pre>\n"
      ],
      "text/plain": [
       "\u001b[1mModel: \"sequential\"\u001b[0m\n"
      ]
     },
     "metadata": {},
     "output_type": "display_data"
    },
    {
     "data": {
      "text/html": [
       "<pre style=\"white-space:pre;overflow-x:auto;line-height:normal;font-family:Menlo,'DejaVu Sans Mono',consolas,'Courier New',monospace\">┏━━━━━━━━━━━━━━━━━━━━━━━━━━━━━━━━━━━━━━┳━━━━━━━━━━━━━━━━━━━━━━━━━━━━━┳━━━━━━━━━━━━━━━━━┓\n",
       "┃<span style=\"font-weight: bold\"> Layer (type)                         </span>┃<span style=\"font-weight: bold\"> Output Shape                </span>┃<span style=\"font-weight: bold\">         Param # </span>┃\n",
       "┡━━━━━━━━━━━━━━━━━━━━━━━━━━━━━━━━━━━━━━╇━━━━━━━━━━━━━━━━━━━━━━━━━━━━━╇━━━━━━━━━━━━━━━━━┩\n",
       "│ dense (<span style=\"color: #0087ff; text-decoration-color: #0087ff\">Dense</span>)                        │ (<span style=\"color: #00d7ff; text-decoration-color: #00d7ff\">None</span>, <span style=\"color: #00af00; text-decoration-color: #00af00\">128</span>)                 │           <span style=\"color: #00af00; text-decoration-color: #00af00\">1,024</span> │\n",
       "├──────────────────────────────────────┼─────────────────────────────┼─────────────────┤\n",
       "│ dense_1 (<span style=\"color: #0087ff; text-decoration-color: #0087ff\">Dense</span>)                      │ (<span style=\"color: #00d7ff; text-decoration-color: #00d7ff\">None</span>, <span style=\"color: #00af00; text-decoration-color: #00af00\">64</span>)                  │           <span style=\"color: #00af00; text-decoration-color: #00af00\">8,256</span> │\n",
       "├──────────────────────────────────────┼─────────────────────────────┼─────────────────┤\n",
       "│ dense_2 (<span style=\"color: #0087ff; text-decoration-color: #0087ff\">Dense</span>)                      │ (<span style=\"color: #00d7ff; text-decoration-color: #00d7ff\">None</span>, <span style=\"color: #00af00; text-decoration-color: #00af00\">1</span>)                   │              <span style=\"color: #00af00; text-decoration-color: #00af00\">65</span> │\n",
       "└──────────────────────────────────────┴─────────────────────────────┴─────────────────┘\n",
       "</pre>\n"
      ],
      "text/plain": [
       "┏━━━━━━━━━━━━━━━━━━━━━━━━━━━━━━━━━━━━━━┳━━━━━━━━━━━━━━━━━━━━━━━━━━━━━┳━━━━━━━━━━━━━━━━━┓\n",
       "┃\u001b[1m \u001b[0m\u001b[1mLayer (type)                        \u001b[0m\u001b[1m \u001b[0m┃\u001b[1m \u001b[0m\u001b[1mOutput Shape               \u001b[0m\u001b[1m \u001b[0m┃\u001b[1m \u001b[0m\u001b[1m        Param #\u001b[0m\u001b[1m \u001b[0m┃\n",
       "┡━━━━━━━━━━━━━━━━━━━━━━━━━━━━━━━━━━━━━━╇━━━━━━━━━━━━━━━━━━━━━━━━━━━━━╇━━━━━━━━━━━━━━━━━┩\n",
       "│ dense (\u001b[38;5;33mDense\u001b[0m)                        │ (\u001b[38;5;45mNone\u001b[0m, \u001b[38;5;34m128\u001b[0m)                 │           \u001b[38;5;34m1,024\u001b[0m │\n",
       "├──────────────────────────────────────┼─────────────────────────────┼─────────────────┤\n",
       "│ dense_1 (\u001b[38;5;33mDense\u001b[0m)                      │ (\u001b[38;5;45mNone\u001b[0m, \u001b[38;5;34m64\u001b[0m)                  │           \u001b[38;5;34m8,256\u001b[0m │\n",
       "├──────────────────────────────────────┼─────────────────────────────┼─────────────────┤\n",
       "│ dense_2 (\u001b[38;5;33mDense\u001b[0m)                      │ (\u001b[38;5;45mNone\u001b[0m, \u001b[38;5;34m1\u001b[0m)                   │              \u001b[38;5;34m65\u001b[0m │\n",
       "└──────────────────────────────────────┴─────────────────────────────┴─────────────────┘\n"
      ]
     },
     "metadata": {},
     "output_type": "display_data"
    },
    {
     "data": {
      "text/html": [
       "<pre style=\"white-space:pre;overflow-x:auto;line-height:normal;font-family:Menlo,'DejaVu Sans Mono',consolas,'Courier New',monospace\"><span style=\"font-weight: bold\"> Total params: </span><span style=\"color: #00af00; text-decoration-color: #00af00\">28,037</span> (109.52 KB)\n",
       "</pre>\n"
      ],
      "text/plain": [
       "\u001b[1m Total params: \u001b[0m\u001b[38;5;34m28,037\u001b[0m (109.52 KB)\n"
      ]
     },
     "metadata": {},
     "output_type": "display_data"
    },
    {
     "data": {
      "text/html": [
       "<pre style=\"white-space:pre;overflow-x:auto;line-height:normal;font-family:Menlo,'DejaVu Sans Mono',consolas,'Courier New',monospace\"><span style=\"font-weight: bold\"> Trainable params: </span><span style=\"color: #00af00; text-decoration-color: #00af00\">9,345</span> (36.50 KB)\n",
       "</pre>\n"
      ],
      "text/plain": [
       "\u001b[1m Trainable params: \u001b[0m\u001b[38;5;34m9,345\u001b[0m (36.50 KB)\n"
      ]
     },
     "metadata": {},
     "output_type": "display_data"
    },
    {
     "data": {
      "text/html": [
       "<pre style=\"white-space:pre;overflow-x:auto;line-height:normal;font-family:Menlo,'DejaVu Sans Mono',consolas,'Courier New',monospace\"><span style=\"font-weight: bold\"> Non-trainable params: </span><span style=\"color: #00af00; text-decoration-color: #00af00\">0</span> (0.00 B)\n",
       "</pre>\n"
      ],
      "text/plain": [
       "\u001b[1m Non-trainable params: \u001b[0m\u001b[38;5;34m0\u001b[0m (0.00 B)\n"
      ]
     },
     "metadata": {},
     "output_type": "display_data"
    },
    {
     "data": {
      "text/html": [
       "<pre style=\"white-space:pre;overflow-x:auto;line-height:normal;font-family:Menlo,'DejaVu Sans Mono',consolas,'Courier New',monospace\"><span style=\"font-weight: bold\"> Optimizer params: </span><span style=\"color: #00af00; text-decoration-color: #00af00\">18,692</span> (73.02 KB)\n",
       "</pre>\n"
      ],
      "text/plain": [
       "\u001b[1m Optimizer params: \u001b[0m\u001b[38;5;34m18,692\u001b[0m (73.02 KB)\n"
      ]
     },
     "metadata": {},
     "output_type": "display_data"
    }
   ],
   "source": [
    "# Step 10: Model Evaluation\n",
    "\n",
    "# Evaluate the model using RMSE\n",
    "predictions = model.predict(X_test)\n",
    "rmse = np.sqrt(np.mean((y_test - predictions.flatten()) ** 2))\n",
    "print(f\"Test RMSE: {rmse}\")\n",
    "\n",
    "# Text summary of the model\n",
    "model.summary()"
   ]
  },
  {
   "cell_type": "code",
   "execution_count": 20,
   "id": "d37ac70d-a059-431f-a50a-b804d45f0d2c",
   "metadata": {},
   "outputs": [
    {
     "name": "stdout",
     "output_type": "stream",
     "text": [
      "Requirement already satisfied: pydot in c:\\users\\sudwa\\anaconda3\\lib\\site-packages (3.0.2)\n",
      "Requirement already satisfied: pyparsing>=3.0.9 in c:\\users\\sudwa\\anaconda3\\lib\\site-packages (from pydot) (3.0.9)\n"
     ]
    }
   ],
   "source": [
    "!pip install pydot"
   ]
  },
  {
   "cell_type": "code",
   "execution_count": 21,
   "id": "7153c0ca-22c2-4ac3-ab9e-7d7be8a56efd",
   "metadata": {},
   "outputs": [
    {
     "name": "stdout",
     "output_type": "stream",
     "text": [
      "You must install pydot (`pip install pydot`) for `plot_model` to work.\n"
     ]
    }
   ],
   "source": [
    "\n",
    "from tensorflow.keras.utils import plot_model\n",
    "\n",
    "# Generate a visual diagram of the model structure\n",
    "plot_model(model, show_shapes=True, show_layer_names=True)"
   ]
  },
  {
   "cell_type": "code",
   "execution_count": 22,
   "id": "d39bcfd4-abb9-4262-b7ad-8f5b8a32d628",
   "metadata": {},
   "outputs": [
    {
     "name": "stdout",
     "output_type": "stream",
     "text": [
      "\u001b[1m1/1\u001b[0m \u001b[32m━━━━━━━━━━━━━━━━━━━━\u001b[0m\u001b[37m\u001b[0m \u001b[1m0s\u001b[0m 174ms/step\n",
      "Sample predictions: [513675.75 231929.2  534972.9  272743.9  205699.61]\n"
     ]
    }
   ],
   "source": [
    "# Step 11: Making Predictions\n",
    "# Predict on new data\n",
    "new_predictions = model.predict(X_test[:5])\n",
    "print(\"Sample predictions:\", new_predictions.flatten())"
   ]
  },
  {
   "cell_type": "code",
   "execution_count": 26,
   "id": "dceaa2bd-7cf3-4e49-bd28-91c6db0f0576",
   "metadata": {},
   "outputs": [
    {
     "name": "stdout",
     "output_type": "stream",
     "text": [
      "Requirement already satisfied: graphviz in c:\\users\\sudwa\\anaconda3\\lib\\site-packages (0.20.3)\n",
      "Requirement already satisfied: pydot in c:\\users\\sudwa\\anaconda3\\lib\\site-packages (3.0.2)\n",
      "Requirement already satisfied: pyparsing>=3.0.9 in c:\\users\\sudwa\\anaconda3\\lib\\site-packages (from pydot) (3.0.9)\n"
     ]
    }
   ],
   "source": [
    "!pip install graphviz\n",
    "!pip install pydot"
   ]
  },
  {
   "cell_type": "code",
   "execution_count": 27,
   "id": "8b587128-7550-4efb-98f5-8b51509acff1",
   "metadata": {},
   "outputs": [
    {
     "name": "stdout",
     "output_type": "stream",
     "text": [
      "Epoch 1/100\n",
      "\u001b[1m25/25\u001b[0m \u001b[32m━━━━━━━━━━━━━━━━━━━━\u001b[0m\u001b[37m\u001b[0m \u001b[1m1s\u001b[0m 19ms/step - loss: 38307188736.0000 - mae: 147939.6094 - val_loss: 53259517952.0000 - val_mae: 171825.2969\n",
      "Epoch 2/100\n",
      "\u001b[1m25/25\u001b[0m \u001b[32m━━━━━━━━━━━━━━━━━━━━\u001b[0m\u001b[37m\u001b[0m \u001b[1m0s\u001b[0m 8ms/step - loss: 41093566464.0000 - mae: 151041.4844 - val_loss: 53206671360.0000 - val_mae: 171680.3438\n",
      "Epoch 3/100\n",
      "\u001b[1m25/25\u001b[0m \u001b[32m━━━━━━━━━━━━━━━━━━━━\u001b[0m\u001b[37m\u001b[0m \u001b[1m0s\u001b[0m 12ms/step - loss: 36634345472.0000 - mae: 144733.4219 - val_loss: 53208563712.0000 - val_mae: 171690.1719\n",
      "Epoch 4/100\n",
      "\u001b[1m25/25\u001b[0m \u001b[32m━━━━━━━━━━━━━━━━━━━━\u001b[0m\u001b[37m\u001b[0m \u001b[1m0s\u001b[0m 11ms/step - loss: 38202671104.0000 - mae: 147355.4688 - val_loss: 53218488320.0000 - val_mae: 171722.3281\n",
      "Epoch 5/100\n",
      "\u001b[1m25/25\u001b[0m \u001b[32m━━━━━━━━━━━━━━━━━━━━\u001b[0m\u001b[37m\u001b[0m \u001b[1m0s\u001b[0m 11ms/step - loss: 41564270592.0000 - mae: 155569.1875 - val_loss: 53192663040.0000 - val_mae: 171636.8750\n",
      "Epoch 6/100\n",
      "\u001b[1m25/25\u001b[0m \u001b[32m━━━━━━━━━━━━━━━━━━━━\u001b[0m\u001b[37m\u001b[0m \u001b[1m0s\u001b[0m 9ms/step - loss: 39602044928.0000 - mae: 151910.1406 - val_loss: 53180112896.0000 - val_mae: 171571.5312\n",
      "Epoch 7/100\n",
      "\u001b[1m25/25\u001b[0m \u001b[32m━━━━━━━━━━━━━━━━━━━━\u001b[0m\u001b[37m\u001b[0m \u001b[1m1s\u001b[0m 29ms/step - loss: 35704737792.0000 - mae: 145256.2500 - val_loss: 53197443072.0000 - val_mae: 171665.3750\n",
      "Epoch 8/100\n",
      "\u001b[1m25/25\u001b[0m \u001b[32m━━━━━━━━━━━━━━━━━━━━\u001b[0m\u001b[37m\u001b[0m \u001b[1m0s\u001b[0m 14ms/step - loss: 40986673152.0000 - mae: 155300.3594 - val_loss: 53198221312.0000 - val_mae: 171671.8594\n",
      "Epoch 9/100\n",
      "\u001b[1m25/25\u001b[0m \u001b[32m━━━━━━━━━━━━━━━━━━━━\u001b[0m\u001b[37m\u001b[0m \u001b[1m1s\u001b[0m 12ms/step - loss: 36553015296.0000 - mae: 144092.9844 - val_loss: 53179088896.0000 - val_mae: 171594.1719\n",
      "Epoch 10/100\n",
      "\u001b[1m25/25\u001b[0m \u001b[32m━━━━━━━━━━━━━━━━━━━━\u001b[0m\u001b[37m\u001b[0m \u001b[1m0s\u001b[0m 11ms/step - loss: 34863652864.0000 - mae: 143437.8281 - val_loss: 53173104640.0000 - val_mae: 171558.3125\n",
      "Epoch 11/100\n",
      "\u001b[1m25/25\u001b[0m \u001b[32m━━━━━━━━━━━━━━━━━━━━\u001b[0m\u001b[37m\u001b[0m \u001b[1m0s\u001b[0m 9ms/step - loss: 35896041472.0000 - mae: 146145.8281 - val_loss: 53175615488.0000 - val_mae: 171589.2656\n",
      "Epoch 12/100\n",
      "\u001b[1m25/25\u001b[0m \u001b[32m━━━━━━━━━━━━━━━━━━━━\u001b[0m\u001b[37m\u001b[0m \u001b[1m1s\u001b[0m 20ms/step - loss: 39607074816.0000 - mae: 151226.3906 - val_loss: 53218181120.0000 - val_mae: 171740.8281\n",
      "Epoch 13/100\n",
      "\u001b[1m25/25\u001b[0m \u001b[32m━━━━━━━━━━━━━━━━━━━━\u001b[0m\u001b[37m\u001b[0m \u001b[1m0s\u001b[0m 8ms/step - loss: 36418355200.0000 - mae: 145328.6875 - val_loss: 53168242688.0000 - val_mae: 171522.6250\n",
      "Epoch 14/100\n",
      "\u001b[1m25/25\u001b[0m \u001b[32m━━━━━━━━━━━━━━━━━━━━\u001b[0m\u001b[37m\u001b[0m \u001b[1m0s\u001b[0m 10ms/step - loss: 39872360448.0000 - mae: 152490.6406 - val_loss: 53244882944.0000 - val_mae: 171808.3906\n",
      "Epoch 15/100\n",
      "\u001b[1m25/25\u001b[0m \u001b[32m━━━━━━━━━━━━━━━━━━━━\u001b[0m\u001b[37m\u001b[0m \u001b[1m0s\u001b[0m 15ms/step - loss: 36296425472.0000 - mae: 143990.6875 - val_loss: 53177974784.0000 - val_mae: 171622.7656\n",
      "Epoch 16/100\n",
      "\u001b[1m25/25\u001b[0m \u001b[32m━━━━━━━━━━━━━━━━━━━━\u001b[0m\u001b[37m\u001b[0m \u001b[1m0s\u001b[0m 8ms/step - loss: 39638650880.0000 - mae: 152640.5156 - val_loss: 53187792896.0000 - val_mae: 171663.0312\n",
      "Epoch 17/100\n",
      "\u001b[1m25/25\u001b[0m \u001b[32m━━━━━━━━━━━━━━━━━━━━\u001b[0m\u001b[37m\u001b[0m \u001b[1m1s\u001b[0m 20ms/step - loss: 39126482944.0000 - mae: 151061.7188 - val_loss: 53184925696.0000 - val_mae: 171656.7656\n",
      "Epoch 18/100\n",
      "\u001b[1m25/25\u001b[0m \u001b[32m━━━━━━━━━━━━━━━━━━━━\u001b[0m\u001b[37m\u001b[0m \u001b[1m0s\u001b[0m 8ms/step - loss: 38077722624.0000 - mae: 150962.6094 - val_loss: 53164527616.0000 - val_mae: 171578.4375\n",
      "Epoch 19/100\n",
      "\u001b[1m25/25\u001b[0m \u001b[32m━━━━━━━━━━━━━━━━━━━━\u001b[0m\u001b[37m\u001b[0m \u001b[1m0s\u001b[0m 10ms/step - loss: 37362163712.0000 - mae: 144609.5781 - val_loss: 53158019072.0000 - val_mae: 171512.5938\n",
      "Epoch 20/100\n",
      "\u001b[1m25/25\u001b[0m \u001b[32m━━━━━━━━━━━━━━━━━━━━\u001b[0m\u001b[37m\u001b[0m \u001b[1m1s\u001b[0m 21ms/step - loss: 40086417408.0000 - mae: 153910.2656 - val_loss: 53192904704.0000 - val_mae: 171687.8594\n",
      "Epoch 21/100\n",
      "\u001b[1m25/25\u001b[0m \u001b[32m━━━━━━━━━━━━━━━━━━━━\u001b[0m\u001b[37m\u001b[0m \u001b[1m1s\u001b[0m 11ms/step - loss: 36104425472.0000 - mae: 144161.7344 - val_loss: 53181599744.0000 - val_mae: 171658.0938\n",
      "Epoch 22/100\n",
      "\u001b[1m25/25\u001b[0m \u001b[32m━━━━━━━━━━━━━━━━━━━━\u001b[0m\u001b[37m\u001b[0m \u001b[1m0s\u001b[0m 10ms/step - loss: 37724536832.0000 - mae: 147506.7188 - val_loss: 53154598912.0000 - val_mae: 171551.0312\n",
      "Epoch 23/100\n",
      "\u001b[1m25/25\u001b[0m \u001b[32m━━━━━━━━━━━━━━━━━━━━\u001b[0m\u001b[37m\u001b[0m \u001b[1m0s\u001b[0m 9ms/step - loss: 33619087360.0000 - mae: 137684.9531 - val_loss: 53266575360.0000 - val_mae: 171857.5625\n",
      "Epoch 24/100\n",
      "\u001b[1m25/25\u001b[0m \u001b[32m━━━━━━━━━━━━━━━━━━━━\u001b[0m\u001b[37m\u001b[0m \u001b[1m0s\u001b[0m 9ms/step - loss: 38251511808.0000 - mae: 149254.9688 - val_loss: 53149184000.0000 - val_mae: 171506.3750\n",
      "Epoch 25/100\n",
      "\u001b[1m25/25\u001b[0m \u001b[32m━━━━━━━━━━━━━━━━━━━━\u001b[0m\u001b[37m\u001b[0m \u001b[1m0s\u001b[0m 10ms/step - loss: 35778719744.0000 - mae: 142416.2031 - val_loss: 53177466880.0000 - val_mae: 171656.4844\n",
      "Epoch 26/100\n",
      "\u001b[1m25/25\u001b[0m \u001b[32m━━━━━━━━━━━━━━━━━━━━\u001b[0m\u001b[37m\u001b[0m \u001b[1m0s\u001b[0m 9ms/step - loss: 41009569792.0000 - mae: 151910.2812 - val_loss: 53166145536.0000 - val_mae: 171623.2031\n",
      "Epoch 27/100\n",
      "\u001b[1m25/25\u001b[0m \u001b[32m━━━━━━━━━━━━━━━━━━━━\u001b[0m\u001b[37m\u001b[0m \u001b[1m0s\u001b[0m 8ms/step - loss: 40673325056.0000 - mae: 153783.5781 - val_loss: 53152002048.0000 - val_mae: 171571.0625\n",
      "Epoch 28/100\n",
      "\u001b[1m25/25\u001b[0m \u001b[32m━━━━━━━━━━━━━━━━━━━━\u001b[0m\u001b[37m\u001b[0m \u001b[1m0s\u001b[0m 7ms/step - loss: 37528309760.0000 - mae: 147900.7812 - val_loss: 53163941888.0000 - val_mae: 171622.4531\n",
      "Epoch 29/100\n",
      "\u001b[1m25/25\u001b[0m \u001b[32m━━━━━━━━━━━━━━━━━━━━\u001b[0m\u001b[37m\u001b[0m \u001b[1m0s\u001b[0m 9ms/step - loss: 37496565760.0000 - mae: 147927.5000 - val_loss: 53182599168.0000 - val_mae: 171679.1719\n",
      "Epoch 30/100\n",
      "\u001b[1m25/25\u001b[0m \u001b[32m━━━━━━━━━━━━━━━━━━━━\u001b[0m\u001b[37m\u001b[0m \u001b[1m0s\u001b[0m 9ms/step - loss: 36702732288.0000 - mae: 147088.9062 - val_loss: 53171597312.0000 - val_mae: 171652.0938\n",
      "Epoch 31/100\n",
      "\u001b[1m25/25\u001b[0m \u001b[32m━━━━━━━━━━━━━━━━━━━━\u001b[0m\u001b[37m\u001b[0m \u001b[1m0s\u001b[0m 8ms/step - loss: 38922674176.0000 - mae: 148868.4375 - val_loss: 53154611200.0000 - val_mae: 171599.9375\n",
      "Epoch 32/100\n",
      "\u001b[1m25/25\u001b[0m \u001b[32m━━━━━━━━━━━━━━━━━━━━\u001b[0m\u001b[37m\u001b[0m \u001b[1m0s\u001b[0m 9ms/step - loss: 38129213440.0000 - mae: 146735.0469 - val_loss: 53150498816.0000 - val_mae: 171587.8438\n",
      "Epoch 33/100\n",
      "\u001b[1m25/25\u001b[0m \u001b[32m━━━━━━━━━━━━━━━━━━━━\u001b[0m\u001b[37m\u001b[0m \u001b[1m0s\u001b[0m 9ms/step - loss: 38929633280.0000 - mae: 150670.3281 - val_loss: 53133746176.0000 - val_mae: 171502.6875\n",
      "Epoch 34/100\n",
      "\u001b[1m25/25\u001b[0m \u001b[32m━━━━━━━━━━━━━━━━━━━━\u001b[0m\u001b[37m\u001b[0m \u001b[1m0s\u001b[0m 7ms/step - loss: 38945107968.0000 - mae: 149958.8125 - val_loss: 53137031168.0000 - val_mae: 171542.4844\n",
      "Epoch 35/100\n",
      "\u001b[1m25/25\u001b[0m \u001b[32m━━━━━━━━━━━━━━━━━━━━\u001b[0m\u001b[37m\u001b[0m \u001b[1m0s\u001b[0m 8ms/step - loss: 36683255808.0000 - mae: 145368.1406 - val_loss: 53151920128.0000 - val_mae: 171605.4219\n",
      "Epoch 36/100\n",
      "\u001b[1m25/25\u001b[0m \u001b[32m━━━━━━━━━━━━━━━━━━━━\u001b[0m\u001b[37m\u001b[0m \u001b[1m0s\u001b[0m 8ms/step - loss: 38789566464.0000 - mae: 148778.6562 - val_loss: 53189410816.0000 - val_mae: 171710.5781\n",
      "Epoch 37/100\n",
      "\u001b[1m25/25\u001b[0m \u001b[32m━━━━━━━━━━━━━━━━━━━━\u001b[0m\u001b[37m\u001b[0m \u001b[1m0s\u001b[0m 8ms/step - loss: 35034718208.0000 - mae: 140172.2188 - val_loss: 53128310784.0000 - val_mae: 171513.0000\n",
      "Epoch 38/100\n",
      "\u001b[1m25/25\u001b[0m \u001b[32m━━━━━━━━━━━━━━━━━━━━\u001b[0m\u001b[37m\u001b[0m \u001b[1m0s\u001b[0m 8ms/step - loss: 37988040704.0000 - mae: 148551.6250 - val_loss: 53153390592.0000 - val_mae: 171619.6719\n",
      "Epoch 39/100\n",
      "\u001b[1m25/25\u001b[0m \u001b[32m━━━━━━━━━━━━━━━━━━━━\u001b[0m\u001b[37m\u001b[0m \u001b[1m0s\u001b[0m 9ms/step - loss: 36734976000.0000 - mae: 143904.5625 - val_loss: 53147553792.0000 - val_mae: 171604.0469\n",
      "Epoch 40/100\n",
      "\u001b[1m25/25\u001b[0m \u001b[32m━━━━━━━━━━━━━━━━━━━━\u001b[0m\u001b[37m\u001b[0m \u001b[1m0s\u001b[0m 7ms/step - loss: 36864557056.0000 - mae: 149098.6875 - val_loss: 53145047040.0000 - val_mae: 171599.1875\n",
      "Epoch 41/100\n",
      "\u001b[1m25/25\u001b[0m \u001b[32m━━━━━━━━━━━━━━━━━━━━\u001b[0m\u001b[37m\u001b[0m \u001b[1m0s\u001b[0m 9ms/step - loss: 34735222784.0000 - mae: 142787.7344 - val_loss: 53142274048.0000 - val_mae: 171593.1719\n",
      "Epoch 42/100\n",
      "\u001b[1m25/25\u001b[0m \u001b[32m━━━━━━━━━━━━━━━━━━━━\u001b[0m\u001b[37m\u001b[0m \u001b[1m0s\u001b[0m 7ms/step - loss: 36193869824.0000 - mae: 146717.0000 - val_loss: 53151891456.0000 - val_mae: 171625.7188\n",
      "Epoch 43/100\n",
      "\u001b[1m25/25\u001b[0m \u001b[32m━━━━━━━━━━━━━━━━━━━━\u001b[0m\u001b[37m\u001b[0m \u001b[1m0s\u001b[0m 9ms/step - loss: 34872492032.0000 - mae: 144194.5938 - val_loss: 53131882496.0000 - val_mae: 171562.6406\n",
      "Epoch 44/100\n",
      "\u001b[1m25/25\u001b[0m \u001b[32m━━━━━━━━━━━━━━━━━━━━\u001b[0m\u001b[37m\u001b[0m \u001b[1m0s\u001b[0m 7ms/step - loss: 40561553408.0000 - mae: 152711.1875 - val_loss: 53115281408.0000 - val_mae: 171488.8125\n",
      "Epoch 45/100\n",
      "\u001b[1m25/25\u001b[0m \u001b[32m━━━━━━━━━━━━━━━━━━━━\u001b[0m\u001b[37m\u001b[0m \u001b[1m0s\u001b[0m 9ms/step - loss: 42723340288.0000 - mae: 155911.3281 - val_loss: 53135876096.0000 - val_mae: 171585.1719\n",
      "Epoch 46/100\n",
      "\u001b[1m25/25\u001b[0m \u001b[32m━━━━━━━━━━━━━━━━━━━━\u001b[0m\u001b[37m\u001b[0m \u001b[1m0s\u001b[0m 9ms/step - loss: 44580888576.0000 - mae: 157952.7656 - val_loss: 53112930304.0000 - val_mae: 171495.4688\n",
      "Epoch 47/100\n",
      "\u001b[1m25/25\u001b[0m \u001b[32m━━━━━━━━━━━━━━━━━━━━\u001b[0m\u001b[37m\u001b[0m \u001b[1m0s\u001b[0m 9ms/step - loss: 36974854144.0000 - mae: 146772.2500 - val_loss: 53211594752.0000 - val_mae: 171770.1250\n",
      "Epoch 48/100\n",
      "\u001b[1m25/25\u001b[0m \u001b[32m━━━━━━━━━━━━━━━━━━━━\u001b[0m\u001b[37m\u001b[0m \u001b[1m0s\u001b[0m 8ms/step - loss: 36842336256.0000 - mae: 148029.0469 - val_loss: 53113389056.0000 - val_mae: 171514.2188\n",
      "Epoch 49/100\n",
      "\u001b[1m25/25\u001b[0m \u001b[32m━━━━━━━━━━━━━━━━━━━━\u001b[0m\u001b[37m\u001b[0m \u001b[1m0s\u001b[0m 9ms/step - loss: 36980432896.0000 - mae: 145755.8594 - val_loss: 53134577664.0000 - val_mae: 171593.1562\n",
      "Epoch 50/100\n",
      "\u001b[1m25/25\u001b[0m \u001b[32m━━━━━━━━━━━━━━━━━━━━\u001b[0m\u001b[37m\u001b[0m \u001b[1m0s\u001b[0m 7ms/step - loss: 38505988096.0000 - mae: 149611.8281 - val_loss: 53118304256.0000 - val_mae: 171540.5625\n",
      "Epoch 51/100\n",
      "\u001b[1m25/25\u001b[0m \u001b[32m━━━━━━━━━━━━━━━━━━━━\u001b[0m\u001b[37m\u001b[0m \u001b[1m0s\u001b[0m 11ms/step - loss: 41235550208.0000 - mae: 154999.7656 - val_loss: 53188632576.0000 - val_mae: 171727.9219\n",
      "Epoch 52/100\n",
      "\u001b[1m25/25\u001b[0m \u001b[32m━━━━━━━━━━━━━━━━━━━━\u001b[0m\u001b[37m\u001b[0m \u001b[1m0s\u001b[0m 11ms/step - loss: 41437749248.0000 - mae: 157351.3594 - val_loss: 53105741824.0000 - val_mae: 171502.2344\n",
      "Epoch 53/100\n",
      "\u001b[1m25/25\u001b[0m \u001b[32m━━━━━━━━━━━━━━━━━━━━\u001b[0m\u001b[37m\u001b[0m \u001b[1m1s\u001b[0m 7ms/step - loss: 37924859904.0000 - mae: 150575.2656 - val_loss: 53103267840.0000 - val_mae: 171495.7500\n",
      "Epoch 54/100\n",
      "\u001b[1m25/25\u001b[0m \u001b[32m━━━━━━━━━━━━━━━━━━━━\u001b[0m\u001b[37m\u001b[0m \u001b[1m0s\u001b[0m 7ms/step - loss: 42917826560.0000 - mae: 156648.4062 - val_loss: 53162201088.0000 - val_mae: 171672.9531\n",
      "Epoch 55/100\n",
      "\u001b[1m25/25\u001b[0m \u001b[32m━━━━━━━━━━━━━━━━━━━━\u001b[0m\u001b[37m\u001b[0m \u001b[1m0s\u001b[0m 7ms/step - loss: 37072130048.0000 - mae: 147089.6406 - val_loss: 53116563456.0000 - val_mae: 171553.4219\n",
      "Epoch 56/100\n",
      "\u001b[1m25/25\u001b[0m \u001b[32m━━━━━━━━━━━━━━━━━━━━\u001b[0m\u001b[37m\u001b[0m \u001b[1m0s\u001b[0m 7ms/step - loss: 36184485888.0000 - mae: 144994.0469 - val_loss: 53094023168.0000 - val_mae: 171453.5781\n",
      "Epoch 57/100\n",
      "\u001b[1m25/25\u001b[0m \u001b[32m━━━━━━━━━━━━━━━━━━━━\u001b[0m\u001b[37m\u001b[0m \u001b[1m0s\u001b[0m 9ms/step - loss: 37584076800.0000 - mae: 146835.2500 - val_loss: 53154107392.0000 - val_mae: 171657.8750\n",
      "Epoch 58/100\n",
      "\u001b[1m25/25\u001b[0m \u001b[32m━━━━━━━━━━━━━━━━━━━━\u001b[0m\u001b[37m\u001b[0m \u001b[1m0s\u001b[0m 8ms/step - loss: 38453878784.0000 - mae: 147872.5000 - val_loss: 53105438720.0000 - val_mae: 171525.6719\n",
      "Epoch 59/100\n",
      "\u001b[1m25/25\u001b[0m \u001b[32m━━━━━━━━━━━━━━━━━━━━\u001b[0m\u001b[37m\u001b[0m \u001b[1m0s\u001b[0m 8ms/step - loss: 38836015104.0000 - mae: 149505.5000 - val_loss: 53098557440.0000 - val_mae: 171506.7969\n",
      "Epoch 60/100\n",
      "\u001b[1m25/25\u001b[0m \u001b[32m━━━━━━━━━━━━━━━━━━━━\u001b[0m\u001b[37m\u001b[0m \u001b[1m0s\u001b[0m 8ms/step - loss: 43956355072.0000 - mae: 154958.1094 - val_loss: 53099716608.0000 - val_mae: 171514.4531\n",
      "Epoch 61/100\n",
      "\u001b[1m25/25\u001b[0m \u001b[32m━━━━━━━━━━━━━━━━━━━━\u001b[0m\u001b[37m\u001b[0m \u001b[1m0s\u001b[0m 8ms/step - loss: 36060659712.0000 - mae: 145048.0000 - val_loss: 53153525760.0000 - val_mae: 171662.6406\n",
      "Epoch 62/100\n",
      "\u001b[1m25/25\u001b[0m \u001b[32m━━━━━━━━━━━━━━━━━━━━\u001b[0m\u001b[37m\u001b[0m \u001b[1m0s\u001b[0m 8ms/step - loss: 39081488384.0000 - mae: 150940.4219 - val_loss: 53083889664.0000 - val_mae: 171427.5781\n",
      "Epoch 63/100\n",
      "\u001b[1m25/25\u001b[0m \u001b[32m━━━━━━━━━━━━━━━━━━━━\u001b[0m\u001b[37m\u001b[0m \u001b[1m0s\u001b[0m 8ms/step - loss: 39104122880.0000 - mae: 150170.3438 - val_loss: 53140353024.0000 - val_mae: 171633.7500\n",
      "Epoch 64/100\n",
      "\u001b[1m25/25\u001b[0m \u001b[32m━━━━━━━━━━━━━━━━━━━━\u001b[0m\u001b[37m\u001b[0m \u001b[1m0s\u001b[0m 8ms/step - loss: 38326882304.0000 - mae: 149660.7500 - val_loss: 53080522752.0000 - val_mae: 171441.2031\n",
      "Epoch 65/100\n",
      "\u001b[1m25/25\u001b[0m \u001b[32m━━━━━━━━━━━━━━━━━━━━\u001b[0m\u001b[37m\u001b[0m \u001b[1m0s\u001b[0m 7ms/step - loss: 37250994176.0000 - mae: 148905.2812 - val_loss: 53119426560.0000 - val_mae: 171588.3906\n",
      "Epoch 66/100\n",
      "\u001b[1m25/25\u001b[0m \u001b[32m━━━━━━━━━━━━━━━━━━━━\u001b[0m\u001b[37m\u001b[0m \u001b[1m0s\u001b[0m 8ms/step - loss: 38706864128.0000 - mae: 151919.0156 - val_loss: 53082636288.0000 - val_mae: 171476.1406\n",
      "Epoch 67/100\n",
      "\u001b[1m25/25\u001b[0m \u001b[32m━━━━━━━━━━━━━━━━━━━━\u001b[0m\u001b[37m\u001b[0m \u001b[1m0s\u001b[0m 9ms/step - loss: 41283035136.0000 - mae: 154384.6562 - val_loss: 53116293120.0000 - val_mae: 171584.2656\n",
      "Epoch 68/100\n",
      "\u001b[1m25/25\u001b[0m \u001b[32m━━━━━━━━━━━━━━━━━━━━\u001b[0m\u001b[37m\u001b[0m \u001b[1m0s\u001b[0m 8ms/step - loss: 36064186368.0000 - mae: 144514.6406 - val_loss: 53073797120.0000 - val_mae: 171435.2344\n",
      "Epoch 69/100\n",
      "\u001b[1m25/25\u001b[0m \u001b[32m━━━━━━━━━━━━━━━━━━━━\u001b[0m\u001b[37m\u001b[0m \u001b[1m0s\u001b[0m 7ms/step - loss: 38495297536.0000 - mae: 151083.7344 - val_loss: 53148778496.0000 - val_mae: 171662.0312\n",
      "Epoch 70/100\n",
      "\u001b[1m25/25\u001b[0m \u001b[32m━━━━━━━━━━━━━━━━━━━━\u001b[0m\u001b[37m\u001b[0m \u001b[1m0s\u001b[0m 9ms/step - loss: 40367837184.0000 - mae: 153455.8750 - val_loss: 53085700096.0000 - val_mae: 171502.1562\n",
      "Epoch 71/100\n",
      "\u001b[1m25/25\u001b[0m \u001b[32m━━━━━━━━━━━━━━━━━━━━\u001b[0m\u001b[37m\u001b[0m \u001b[1m0s\u001b[0m 8ms/step - loss: 38167191552.0000 - mae: 147697.5000 - val_loss: 53082333184.0000 - val_mae: 171495.1719\n",
      "Epoch 72/100\n",
      "\u001b[1m25/25\u001b[0m \u001b[32m━━━━━━━━━━━━━━━━━━━━\u001b[0m\u001b[37m\u001b[0m \u001b[1m0s\u001b[0m 9ms/step - loss: 38091640832.0000 - mae: 148049.2812 - val_loss: 53066584064.0000 - val_mae: 171405.5625\n",
      "Epoch 73/100\n",
      "\u001b[1m25/25\u001b[0m \u001b[32m━━━━━━━━━━━━━━━━━━━━\u001b[0m\u001b[37m\u001b[0m \u001b[1m0s\u001b[0m 11ms/step - loss: 40044834816.0000 - mae: 151596.4375 - val_loss: 53209083904.0000 - val_mae: 171775.9844\n",
      "Epoch 74/100\n",
      "\u001b[1m25/25\u001b[0m \u001b[32m━━━━━━━━━━━━━━━━━━━━\u001b[0m\u001b[37m\u001b[0m \u001b[1m0s\u001b[0m 8ms/step - loss: 37479829504.0000 - mae: 146524.3906 - val_loss: 53130629120.0000 - val_mae: 171627.6094\n",
      "Epoch 75/100\n",
      "\u001b[1m25/25\u001b[0m \u001b[32m━━━━━━━━━━━━━━━━━━━━\u001b[0m\u001b[37m\u001b[0m \u001b[1m0s\u001b[0m 8ms/step - loss: 36184809472.0000 - mae: 144004.7188 - val_loss: 53085380608.0000 - val_mae: 171515.9375\n",
      "Epoch 76/100\n",
      "\u001b[1m25/25\u001b[0m \u001b[32m━━━━━━━━━━━━━━━━━━━━\u001b[0m\u001b[37m\u001b[0m \u001b[1m0s\u001b[0m 9ms/step - loss: 45285416960.0000 - mae: 163315.7344 - val_loss: 53109682176.0000 - val_mae: 171583.7969\n",
      "Epoch 77/100\n",
      "\u001b[1m25/25\u001b[0m \u001b[32m━━━━━━━━━━━━━━━━━━━━\u001b[0m\u001b[37m\u001b[0m \u001b[1m0s\u001b[0m 9ms/step - loss: 36510883840.0000 - mae: 143910.3906 - val_loss: 53150633984.0000 - val_mae: 171673.9531\n",
      "Epoch 78/100\n",
      "\u001b[1m25/25\u001b[0m \u001b[32m━━━━━━━━━━━━━━━━━━━━\u001b[0m\u001b[37m\u001b[0m \u001b[1m0s\u001b[0m 8ms/step - loss: 38376226816.0000 - mae: 149796.8281 - val_loss: 53055926272.0000 - val_mae: 171409.2344\n",
      "Epoch 79/100\n",
      "\u001b[1m25/25\u001b[0m \u001b[32m━━━━━━━━━━━━━━━━━━━━\u001b[0m\u001b[37m\u001b[0m \u001b[1m0s\u001b[0m 7ms/step - loss: 38167793664.0000 - mae: 149991.8750 - val_loss: 53063335936.0000 - val_mae: 171460.9531\n",
      "Epoch 80/100\n",
      "\u001b[1m25/25\u001b[0m \u001b[32m━━━━━━━━━━━━━━━━━━━━\u001b[0m\u001b[37m\u001b[0m \u001b[1m0s\u001b[0m 8ms/step - loss: 38588993536.0000 - mae: 148578.1094 - val_loss: 53070266368.0000 - val_mae: 171485.4219\n",
      "Epoch 81/100\n",
      "\u001b[1m25/25\u001b[0m \u001b[32m━━━━━━━━━━━━━━━━━━━━\u001b[0m\u001b[37m\u001b[0m \u001b[1m0s\u001b[0m 10ms/step - loss: 38481657856.0000 - mae: 149866.9375 - val_loss: 53083799552.0000 - val_mae: 171528.0156\n",
      "Epoch 82/100\n",
      "\u001b[1m25/25\u001b[0m \u001b[32m━━━━━━━━━━━━━━━━━━━━\u001b[0m\u001b[37m\u001b[0m \u001b[1m0s\u001b[0m 7ms/step - loss: 36682444800.0000 - mae: 147897.0625 - val_loss: 53070794752.0000 - val_mae: 171491.1406\n",
      "Epoch 83/100\n",
      "\u001b[1m25/25\u001b[0m \u001b[32m━━━━━━━━━━━━━━━━━━━━\u001b[0m\u001b[37m\u001b[0m \u001b[1m0s\u001b[0m 8ms/step - loss: 38478196736.0000 - mae: 148219.4219 - val_loss: 53050376192.0000 - val_mae: 171424.4062\n",
      "Epoch 84/100\n",
      "\u001b[1m25/25\u001b[0m \u001b[32m━━━━━━━━━━━━━━━━━━━━\u001b[0m\u001b[37m\u001b[0m \u001b[1m0s\u001b[0m 8ms/step - loss: 39315513344.0000 - mae: 149732.2031 - val_loss: 53061963776.0000 - val_mae: 171472.8125\n",
      "Epoch 85/100\n",
      "\u001b[1m25/25\u001b[0m \u001b[32m━━━━━━━━━━━━━━━━━━━━\u001b[0m\u001b[37m\u001b[0m \u001b[1m0s\u001b[0m 9ms/step - loss: 34605105152.0000 - mae: 145369.7344 - val_loss: 53145686016.0000 - val_mae: 171670.3281\n",
      "Epoch 86/100\n",
      "\u001b[1m25/25\u001b[0m \u001b[32m━━━━━━━━━━━━━━━━━━━━\u001b[0m\u001b[37m\u001b[0m \u001b[1m0s\u001b[0m 8ms/step - loss: 35110342656.0000 - mae: 142417.5781 - val_loss: 53054865408.0000 - val_mae: 171458.0312\n",
      "Epoch 87/100\n",
      "\u001b[1m25/25\u001b[0m \u001b[32m━━━━━━━━━━━━━━━━━━━━\u001b[0m\u001b[37m\u001b[0m \u001b[1m0s\u001b[0m 8ms/step - loss: 41311776768.0000 - mae: 152926.2031 - val_loss: 53040779264.0000 - val_mae: 171399.1250\n",
      "Epoch 88/100\n",
      "\u001b[1m25/25\u001b[0m \u001b[32m━━━━━━━━━━━━━━━━━━━━\u001b[0m\u001b[37m\u001b[0m \u001b[1m0s\u001b[0m 8ms/step - loss: 35720523776.0000 - mae: 143629.5156 - val_loss: 53051863040.0000 - val_mae: 171455.1094\n",
      "Epoch 89/100\n",
      "\u001b[1m25/25\u001b[0m \u001b[32m━━━━━━━━━━━━━━━━━━━━\u001b[0m\u001b[37m\u001b[0m \u001b[1m0s\u001b[0m 8ms/step - loss: 34428260352.0000 - mae: 140994.2031 - val_loss: 53115187200.0000 - val_mae: 171611.9844\n",
      "Epoch 90/100\n",
      "\u001b[1m25/25\u001b[0m \u001b[32m━━━━━━━━━━━━━━━━━━━━\u001b[0m\u001b[37m\u001b[0m \u001b[1m0s\u001b[0m 11ms/step - loss: 37217271808.0000 - mae: 145513.2812 - val_loss: 53046837248.0000 - val_mae: 171446.0312\n",
      "Epoch 91/100\n",
      "\u001b[1m25/25\u001b[0m \u001b[32m━━━━━━━━━━━━━━━━━━━━\u001b[0m\u001b[37m\u001b[0m \u001b[1m0s\u001b[0m 7ms/step - loss: 37578743808.0000 - mae: 150088.4688 - val_loss: 53044576256.0000 - val_mae: 171442.0156\n",
      "Epoch 92/100\n",
      "\u001b[1m25/25\u001b[0m \u001b[32m━━━━━━━━━━━━━━━━━━━━\u001b[0m\u001b[37m\u001b[0m \u001b[1m0s\u001b[0m 9ms/step - loss: 40117739520.0000 - mae: 150915.5938 - val_loss: 53048401920.0000 - val_mae: 171456.2812\n",
      "Epoch 93/100\n",
      "\u001b[1m25/25\u001b[0m \u001b[32m━━━━━━━━━━━━━━━━━━━━\u001b[0m\u001b[37m\u001b[0m \u001b[1m0s\u001b[0m 9ms/step - loss: 37925679104.0000 - mae: 146749.8125 - val_loss: 53051817984.0000 - val_mae: 171467.1875\n",
      "Epoch 94/100\n",
      "\u001b[1m25/25\u001b[0m \u001b[32m━━━━━━━━━━━━━━━━━━━━\u001b[0m\u001b[37m\u001b[0m \u001b[1m0s\u001b[0m 10ms/step - loss: 40076455936.0000 - mae: 152262.7812 - val_loss: 53051535360.0000 - val_mae: 171468.5000\n",
      "Epoch 95/100\n",
      "\u001b[1m25/25\u001b[0m \u001b[32m━━━━━━━━━━━━━━━━━━━━\u001b[0m\u001b[37m\u001b[0m \u001b[1m0s\u001b[0m 9ms/step - loss: 40869535744.0000 - mae: 154267.5000 - val_loss: 53037883392.0000 - val_mae: 171433.9844\n",
      "Epoch 96/100\n",
      "\u001b[1m25/25\u001b[0m \u001b[32m━━━━━━━━━━━━━━━━━━━━\u001b[0m\u001b[37m\u001b[0m \u001b[1m0s\u001b[0m 8ms/step - loss: 37548302336.0000 - mae: 146716.2812 - val_loss: 53025656832.0000 - val_mae: 171384.6875\n",
      "Epoch 97/100\n",
      "\u001b[1m25/25\u001b[0m \u001b[32m━━━━━━━━━━━━━━━━━━━━\u001b[0m\u001b[37m\u001b[0m \u001b[1m0s\u001b[0m 9ms/step - loss: 39445106688.0000 - mae: 152047.1562 - val_loss: 53045936128.0000 - val_mae: 171460.9688\n",
      "Epoch 98/100\n",
      "\u001b[1m25/25\u001b[0m \u001b[32m━━━━━━━━━━━━━━━━━━━━\u001b[0m\u001b[37m\u001b[0m \u001b[1m0s\u001b[0m 12ms/step - loss: 37825916928.0000 - mae: 145886.0156 - val_loss: 53098213376.0000 - val_mae: 171585.4219\n",
      "Epoch 99/100\n",
      "\u001b[1m25/25\u001b[0m \u001b[32m━━━━━━━━━━━━━━━━━━━━\u001b[0m\u001b[37m\u001b[0m \u001b[1m0s\u001b[0m 9ms/step - loss: 38663352320.0000 - mae: 149294.0469 - val_loss: 53034745856.0000 - val_mae: 171436.7656\n",
      "Epoch 100/100\n",
      "\u001b[1m25/25\u001b[0m \u001b[32m━━━━━━━━━━━━━━━━━━━━\u001b[0m\u001b[37m\u001b[0m \u001b[1m0s\u001b[0m 9ms/step - loss: 39334158336.0000 - mae: 150725.1250 - val_loss: 53017653248.0000 - val_mae: 171370.0469\n"
     ]
    },
    {
     "data": {
      "image/png": "[encoded data removed]",
      "text/plain": [
       "<Figure size 640x480 with 1 Axes>"
      ]
     },
     "metadata": {},
     "output_type": "display_data"
    },
    {
     "data": {
      "image/png": "[encoded data removed]",
      "text/plain": [
       "<Figure size 640x480 with 1 Axes>"
      ]
     },
     "metadata": {},
     "output_type": "display_data"
    },
    {
     "data": {
      "image/png": "[encoded data removed]",
      "text/plain": [
       "<Figure size 800x600 with 1 Axes>"
      ]
     },
     "metadata": {},
     "output_type": "display_data"
    },
    {
     "data": {
      "image/png": "[encoded data removed]",
      "text/plain": [
       "<Figure size 800x600 with 1 Axes>"
      ]
     },
     "metadata": {},
     "output_type": "display_data"
    },
    {
     "data": {
      "image/png": "[encoded data removed]",
      "text/plain": [
       "<Figure size 800x600 with 1 Axes>"
      ]
     },
     "metadata": {},
     "output_type": "display_data"
    }
   ],
   "source": [
    "\n",
    "\n",
    "# Train the model and save the training history\n",
    "history = model.fit(X_train, y_train, epochs=100, validation_data=(X_test, y_test))\n",
    "\n",
    "# Plot training & validation loss and metrics\n",
    "import matplotlib.pyplot as plt\n",
    "\n",
    "# Plot loss\n",
    "plt.plot(history.history['loss'], label='Training Loss')\n",
    "plt.plot(history.history['val_loss'], label='Validation Loss')\n",
    "plt.xlabel('Epoch')\n",
    "plt.ylabel('Loss')\n",
    "plt.legend()\n",
    "plt.title('Training and Validation Loss')\n",
    "plt.show()\n",
    "\n",
    "# Plot Mean Absolute Error (MAE)\n",
    "plt.plot(history.history['mae'], label='Training MAE')\n",
    "plt.plot(history.history['val_mae'], label='Validation MAE')\n",
    "plt.xlabel('Epoch')\n",
    "plt.ylabel('MAE')\n",
    "plt.legend()\n",
    "plt.title('Training and Validation MAE')\n",
    "plt.show()\n",
    "\n",
    "# Visualize weights of each Dense layer\n",
    "for layer in model.layers:\n",
    "    if isinstance(layer, Dense):\n",
    "        weights, biases = layer.get_weights()\n",
    "        plt.figure(figsize=(8, 6))\n",
    "        plt.hist(weights.flatten(), bins=30)\n",
    "        plt.title(f\"Weights Distribution in {layer.name}\")\n",
    "        plt.xlabel(\"Weight Values\")\n",
    "        plt.ylabel(\"Frequency\")\n",
    "        plt.show()"
   ]
  },
  {
   "cell_type": "code",
   "execution_count": null,
   "id": "d8d4d4cf-07d8-4ab9-84ca-a81e61e7daa6",
   "metadata": {},
   "outputs": [],
   "source": []
  }
 ],
 "metadata": {
  "kernelspec": {
   "display_name": "Python 3 (ipykernel)",
   "language": "python",
   "name": "python3"
  },
  "language_info": {
   "codemirror_mode": {
    "name": "ipython",
    "version": 3
   },
   "file_extension": ".py",
   "mimetype": "text/x-python",
   "name": "python",
   "nbconvert_exporter": "python",
   "pygments_lexer": "ipython3",
   "version": "3.12.4"
  }
 },
 "nbformat": 4,
 "nbformat_minor": 5
}
